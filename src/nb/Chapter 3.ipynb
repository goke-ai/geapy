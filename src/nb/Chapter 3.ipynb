{
 "cells": [
  {
   "cell_type": "markdown",
   "metadata": {
    "slideshow": {
     "slide_type": "slide"
    }
   },
   "source": [
    "# Python for Engineering Analysis\n",
    "\n",
    "By\n",
    "\n",
    "**Olagoke Oladokun**  \n",
    "**Bemgba Bevan Nyakuma**  \n",
    "**Arshad Ahmad**\n",
    "\n",
    "---"
   ]
  },
  {
   "cell_type": "markdown",
   "metadata": {
    "slideshow": {
     "slide_type": "slide"
    }
   },
   "source": [
    "# Chapter 3\n",
    "# Mathematical Modelling and Simulation"
   ]
  },
  {
   "cell_type": "markdown",
   "metadata": {
    "slideshow": {
     "slide_type": "subslide"
    }
   },
   "source": [
    "In this chapter we will carryout some simple mathematical modelling and simulation in Biomass thermochemical conversion processes and Kinetic study. This will enable us use more language syntax in python as well as use some mathematical and science packages."
   ]
  },
  {
   "cell_type": "markdown",
   "metadata": {
    "slideshow": {
     "slide_type": "subslide"
    }
   },
   "source": [
    "**Objectives**:  \n",
    "1. Develop a python solution\n",
    "2. Refract the solution into function\n",
    "3. Simulate the model by varying parameters\n",
    "4. Visualize the simulation results"
   ]
  },
  {
   "cell_type": "markdown",
   "metadata": {
    "slideshow": {
     "slide_type": "slide"
    }
   },
   "source": [
    "## Calculation of Gasification Equivalent Ratio"
   ]
  },
  {
   "cell_type": "markdown",
   "metadata": {
    "slideshow": {
     "slide_type": "subslide"
    }
   },
   "source": [
    "Equivalence ratio (ER) is an important design parameter for a gasifier. It is the ratio of the actual air-fuel ratio to the stoichiometric air-fuel ratio."
   ]
  },
  {
   "cell_type": "markdown",
   "metadata": {
    "slideshow": {
     "slide_type": "subslide"
    }
   },
   "source": [
    "For a gasifier:\n",
    "- Mf - mass flow rate of solid fuel (kg/min)\n",
    "- Ms - mass flow rate of steam (kg/min)\n",
    "- Mo_vol - volumetric flow rate of Oxygen (N m^3 / min)\n",
    "\n",
    "- The ultimate analysis of the solid fuel on a moisture-ash-free basis:\n",
    "    Carbon (C), Hygrogen (H), Sulphur (S), Nitrogen (N), Oxygen (O) in (%)\n",
    "    \n",
    "Compute\n",
    "1. The Steam to Carbon (S/C) molar ratio\n",
    "2. The Oxygen to carbon (O/C) molar ratio\n",
    "3. The Equivalent Ratio (ER)\n"
   ]
  },
  {
   "cell_type": "markdown",
   "metadata": {
    "slideshow": {
     "slide_type": "slide"
    }
   },
   "source": [
    "#### Solution"
   ]
  },
  {
   "cell_type": "code",
   "execution_count": 1,
   "metadata": {
    "slideshow": {
     "slide_type": "slide"
    }
   },
   "outputs": [],
   "source": [
    "Mf = 750\n",
    "Ms = 1930\n",
    "Mo_vol = 280\n",
    "\n",
    "ult = { 'C':77.3, 'H':5.9, 'S':4.3, 'N':1.4, 'O':11.1 }\n",
    "\n",
    "# molar mass\n",
    "MM = { 'C':12, 'H':1, 'S':32, 'O':16 }\n",
    "Vmm = 22.4 # m^3\n",
    "\n",
    "C = ult['C']/100\n",
    "H = ult['H']/100\n",
    "S = ult['S']/100\n",
    "N = ult['N']/100\n",
    "O = ult['O']/100\n",
    "\n",
    "carbon_mole = Mf * C / MM['C']\n",
    "steam_mole = Ms / (MM['H']*2 + MM['O'])\n",
    "oxygen_mole = Mo_vol / Vmm\n",
    "\n",
    "S_C = steam_mole / carbon_mole\n",
    "O_C = oxygen_mole / carbon_mole\n",
    "\n",
    "# find stoichiometic oxgen\n",
    "\n",
    "# C + O2 -> CO2\n",
    "# S + O2 -> SO2\n",
    "# 2H2 + O2 -> 2H2O\n",
    "\n",
    "stoi_O = (32/12)*C + 8*H + S - O # kg of O2 / kg of fuel\n",
    "Mo_req = Mf * stoi_O # kg of O2 / min\n",
    "\n",
    "# O2 supplied in kg/min\n",
    "Mo = oxygen_mole * 32\n",
    "\n",
    "ER = Mo / Mo_req"
   ]
  },
  {
   "cell_type": "code",
   "execution_count": 2,
   "metadata": {
    "slideshow": {
     "slide_type": "subslide"
    }
   },
   "outputs": [
    {
     "data": {
      "text/plain": [
       "(2.2193474198648846, 0.258732212160414, 0.2163331530557058)"
      ]
     },
     "execution_count": 2,
     "metadata": {},
     "output_type": "execute_result"
    }
   ],
   "source": [
    "S_C, O_C, ER"
   ]
  },
  {
   "cell_type": "markdown",
   "metadata": {
    "slideshow": {
     "slide_type": "slide"
    }
   },
   "source": [
    "### Convert Computation to a python Function"
   ]
  },
  {
   "cell_type": "code",
   "execution_count": 3,
   "metadata": {
    "slideshow": {
     "slide_type": "subslide"
    }
   },
   "outputs": [],
   "source": [
    " def gasification_properties(Mf, Ms, Mo_vol, ult):    \n",
    "\n",
    "    # molar mass\n",
    "    MM = { 'C':12, 'H':1, 'S':32, 'O':16 }\n",
    "    Vmm = 22.4 # m^3\n",
    "\n",
    "    C = ult['C']/100\n",
    "    H = ult['H']/100\n",
    "    S = ult['S']/100\n",
    "    N = ult['N']/100\n",
    "    O = ult['O']/100\n",
    "\n",
    "    carbon_mole = Mf * C / MM['C']\n",
    "    steam_mole = Ms / (MM['H']*2 + MM['O'])\n",
    "    oxygen_mole = Mo_vol / Vmm\n",
    "\n",
    "    S_C = steam_mole / carbon_mole\n",
    "    O_C = oxygen_mole / carbon_mole\n",
    "\n",
    "    # find stoichiometic oxgen\n",
    "\n",
    "    # C + O2 -> CO2\n",
    "    # S + O2 -> SO2\n",
    "    # 2H2 + O2 -> 2H2O\n",
    "\n",
    "    stoi_O = (32/12)*C + 8*H + S - O # kg of O2 / kg of fuel\n",
    "    Mo_req = Mf * stoi_O # kg of O2 / min\n",
    "\n",
    "    # O2 supplied in kg/min\n",
    "    Mo = oxygen_mole * 32\n",
    "\n",
    "    ER = Mo / Mo_req\n",
    "    \n",
    "    return ER, S_C, O_C"
   ]
  },
  {
   "cell_type": "markdown",
   "metadata": {
    "slideshow": {
     "slide_type": "subslide"
    }
   },
   "source": [
    "### Call the function"
   ]
  },
  {
   "cell_type": "code",
   "execution_count": 4,
   "metadata": {
    "slideshow": {
     "slide_type": "subslide"
    }
   },
   "outputs": [
    {
     "data": {
      "text/plain": [
       "(0.2163331530557058, 2.2193474198648846, 0.258732212160414)"
      ]
     },
     "execution_count": 4,
     "metadata": {},
     "output_type": "execute_result"
    }
   ],
   "source": [
    "gasification_properties(Mf, Ms, Mo_vol, ult)"
   ]
  },
  {
   "cell_type": "markdown",
   "metadata": {
    "slideshow": {
     "slide_type": "subslide"
    }
   },
   "source": [
    "### Unbox the return tuple"
   ]
  },
  {
   "cell_type": "code",
   "execution_count": 5,
   "metadata": {
    "slideshow": {
     "slide_type": "subslide"
    }
   },
   "outputs": [],
   "source": [
    "ER, S_C, O_C = gasification_properties(Mf, Ms, Mo_vol, ult)"
   ]
  },
  {
   "cell_type": "code",
   "execution_count": 6,
   "metadata": {
    "slideshow": {
     "slide_type": "subslide"
    }
   },
   "outputs": [
    {
     "data": {
      "text/plain": [
       "(0.2163331530557058, 2.2193474198648846, 0.258732212160414)"
      ]
     },
     "execution_count": 6,
     "metadata": {},
     "output_type": "execute_result"
    }
   ],
   "source": [
    "ER, S_C, O_C"
   ]
  },
  {
   "cell_type": "code",
   "execution_count": 7,
   "metadata": {
    "slideshow": {
     "slide_type": "subslide"
    }
   },
   "outputs": [],
   "source": [
    "ER, S_C, O_C = gasification_properties(1000, 2000, 250, ult)"
   ]
  },
  {
   "cell_type": "code",
   "execution_count": 8,
   "metadata": {
    "slideshow": {
     "slide_type": "subslide"
    }
   },
   "outputs": [
    {
     "data": {
      "text/plain": [
       "(0.14486595070694586, 1.7248814144027598, 0.1732581777859915)"
      ]
     },
     "execution_count": 8,
     "metadata": {},
     "output_type": "execute_result"
    }
   ],
   "source": [
    "ER, S_C, O_C"
   ]
  },
  {
   "cell_type": "markdown",
   "metadata": {
    "slideshow": {
     "slide_type": "slide"
    }
   },
   "source": [
    "### Simulating ER, S/C and O/C"
   ]
  },
  {
   "cell_type": "markdown",
   "metadata": {
    "slideshow": {
     "slide_type": "subslide"
    }
   },
   "source": [
    "When Oxygen volume flow rate increase from 50 to 400 at the rate of 50."
   ]
  },
  {
   "cell_type": "markdown",
   "metadata": {
    "slideshow": {
     "slide_type": "subslide"
    }
   },
   "source": [
    "Iterating over Oxygen using the range function. The range function iterate over integer with syntax range(start,end,step). Please note that end is excluded."
   ]
  },
  {
   "cell_type": "code",
   "execution_count": 9,
   "metadata": {
    "slideshow": {
     "slide_type": "subslide"
    }
   },
   "outputs": [
    {
     "name": "stdout",
     "output_type": "stream",
     "text": [
      "50\n",
      "100\n",
      "150\n",
      "200\n",
      "250\n",
      "300\n",
      "350\n"
     ]
    }
   ],
   "source": [
    "for o in range(50,400,50):\n",
    "    print(o)"
   ]
  },
  {
   "cell_type": "code",
   "execution_count": 10,
   "metadata": {
    "slideshow": {
     "slide_type": "subslide"
    }
   },
   "outputs": [
    {
     "name": "stdout",
     "output_type": "stream",
     "text": [
      "O2[ 50 ]:  0.038630920188518894 , 2.2193474198648846 , 0.046202180742931066\n",
      "O2[ 100 ]:  0.07726184037703779 , 2.2193474198648846 , 0.09240436148586213\n",
      "O2[ 150 ]:  0.1158927605655567 , 2.2193474198648846 , 0.1386065422287932\n",
      "O2[ 200 ]:  0.15452368075407558 , 2.2193474198648846 , 0.18480872297172427\n",
      "O2[ 250 ]:  0.19315460094259448 , 2.2193474198648846 , 0.23101090371465535\n",
      "O2[ 300 ]:  0.2317855211311134 , 2.2193474198648846 , 0.2772130844575864\n",
      "O2[ 350 ]:  0.2704164413196323 , 2.2193474198648846 , 0.3234152652005175\n",
      "O2[ 400 ]:  0.30904736150815115 , 2.2193474198648846 , 0.36961744594344853\n"
     ]
    }
   ],
   "source": [
    "for o in range(50,450,50):\n",
    "    ER, S_C, O_C = gasification_properties(Mf, Ms, o, ult)\n",
    "    print('O2[', o, ']: ', ER, ',', S_C, ',', O_C)\n",
    "    "
   ]
  },
  {
   "cell_type": "markdown",
   "metadata": {
    "slideshow": {
     "slide_type": "slide"
    }
   },
   "source": [
    "Simulate when Oxygen volume flow rate increase from 50 to 400 at the rate of 50 and Steam increases from 500 to 3000 at 500 steps. Print out the simulation results."
   ]
  },
  {
   "cell_type": "code",
   "execution_count": 11,
   "metadata": {
    "slideshow": {
     "slide_type": "subslide"
    }
   },
   "outputs": [
    {
     "name": "stdout",
     "output_type": "stream",
     "text": [
      "O2[ 50 ], Steam[ 500 ]: 0.038630920188518894 , 0.5749604714675867 , 0.046202180742931066\n",
      "O2[ 50 ], Steam[ 1000 ]: 0.038630920188518894 , 1.1499209429351733 , 0.046202180742931066\n",
      "O2[ 50 ], Steam[ 1500 ]: 0.038630920188518894 , 1.7248814144027598 , 0.046202180742931066\n",
      "O2[ 50 ], Steam[ 2000 ]: 0.038630920188518894 , 2.2998418858703467 , 0.046202180742931066\n",
      "O2[ 50 ], Steam[ 2500 ]: 0.038630920188518894 , 2.874802357337933 , 0.046202180742931066\n",
      "O2[ 50 ], Steam[ 3000 ]: 0.038630920188518894 , 3.4497628288055195 , 0.046202180742931066\n",
      "O2[ 100 ], Steam[ 500 ]: 0.07726184037703779 , 0.5749604714675867 , 0.09240436148586213\n",
      "O2[ 100 ], Steam[ 1000 ]: 0.07726184037703779 , 1.1499209429351733 , 0.09240436148586213\n",
      "O2[ 100 ], Steam[ 1500 ]: 0.07726184037703779 , 1.7248814144027598 , 0.09240436148586213\n",
      "O2[ 100 ], Steam[ 2000 ]: 0.07726184037703779 , 2.2998418858703467 , 0.09240436148586213\n",
      "O2[ 100 ], Steam[ 2500 ]: 0.07726184037703779 , 2.874802357337933 , 0.09240436148586213\n",
      "O2[ 100 ], Steam[ 3000 ]: 0.07726184037703779 , 3.4497628288055195 , 0.09240436148586213\n",
      "O2[ 150 ], Steam[ 500 ]: 0.1158927605655567 , 0.5749604714675867 , 0.1386065422287932\n",
      "O2[ 150 ], Steam[ 1000 ]: 0.1158927605655567 , 1.1499209429351733 , 0.1386065422287932\n",
      "O2[ 150 ], Steam[ 1500 ]: 0.1158927605655567 , 1.7248814144027598 , 0.1386065422287932\n",
      "O2[ 150 ], Steam[ 2000 ]: 0.1158927605655567 , 2.2998418858703467 , 0.1386065422287932\n",
      "O2[ 150 ], Steam[ 2500 ]: 0.1158927605655567 , 2.874802357337933 , 0.1386065422287932\n",
      "O2[ 150 ], Steam[ 3000 ]: 0.1158927605655567 , 3.4497628288055195 , 0.1386065422287932\n",
      "O2[ 200 ], Steam[ 500 ]: 0.15452368075407558 , 0.5749604714675867 , 0.18480872297172427\n",
      "O2[ 200 ], Steam[ 1000 ]: 0.15452368075407558 , 1.1499209429351733 , 0.18480872297172427\n",
      "O2[ 200 ], Steam[ 1500 ]: 0.15452368075407558 , 1.7248814144027598 , 0.18480872297172427\n",
      "O2[ 200 ], Steam[ 2000 ]: 0.15452368075407558 , 2.2998418858703467 , 0.18480872297172427\n",
      "O2[ 200 ], Steam[ 2500 ]: 0.15452368075407558 , 2.874802357337933 , 0.18480872297172427\n",
      "O2[ 200 ], Steam[ 3000 ]: 0.15452368075407558 , 3.4497628288055195 , 0.18480872297172427\n",
      "O2[ 250 ], Steam[ 500 ]: 0.19315460094259448 , 0.5749604714675867 , 0.23101090371465535\n",
      "O2[ 250 ], Steam[ 1000 ]: 0.19315460094259448 , 1.1499209429351733 , 0.23101090371465535\n",
      "O2[ 250 ], Steam[ 1500 ]: 0.19315460094259448 , 1.7248814144027598 , 0.23101090371465535\n",
      "O2[ 250 ], Steam[ 2000 ]: 0.19315460094259448 , 2.2998418858703467 , 0.23101090371465535\n",
      "O2[ 250 ], Steam[ 2500 ]: 0.19315460094259448 , 2.874802357337933 , 0.23101090371465535\n",
      "O2[ 250 ], Steam[ 3000 ]: 0.19315460094259448 , 3.4497628288055195 , 0.23101090371465535\n",
      "O2[ 300 ], Steam[ 500 ]: 0.2317855211311134 , 0.5749604714675867 , 0.2772130844575864\n",
      "O2[ 300 ], Steam[ 1000 ]: 0.2317855211311134 , 1.1499209429351733 , 0.2772130844575864\n",
      "O2[ 300 ], Steam[ 1500 ]: 0.2317855211311134 , 1.7248814144027598 , 0.2772130844575864\n",
      "O2[ 300 ], Steam[ 2000 ]: 0.2317855211311134 , 2.2998418858703467 , 0.2772130844575864\n",
      "O2[ 300 ], Steam[ 2500 ]: 0.2317855211311134 , 2.874802357337933 , 0.2772130844575864\n",
      "O2[ 300 ], Steam[ 3000 ]: 0.2317855211311134 , 3.4497628288055195 , 0.2772130844575864\n",
      "O2[ 350 ], Steam[ 500 ]: 0.2704164413196323 , 0.5749604714675867 , 0.3234152652005175\n",
      "O2[ 350 ], Steam[ 1000 ]: 0.2704164413196323 , 1.1499209429351733 , 0.3234152652005175\n",
      "O2[ 350 ], Steam[ 1500 ]: 0.2704164413196323 , 1.7248814144027598 , 0.3234152652005175\n",
      "O2[ 350 ], Steam[ 2000 ]: 0.2704164413196323 , 2.2998418858703467 , 0.3234152652005175\n",
      "O2[ 350 ], Steam[ 2500 ]: 0.2704164413196323 , 2.874802357337933 , 0.3234152652005175\n",
      "O2[ 350 ], Steam[ 3000 ]: 0.2704164413196323 , 3.4497628288055195 , 0.3234152652005175\n",
      "O2[ 400 ], Steam[ 500 ]: 0.30904736150815115 , 0.5749604714675867 , 0.36961744594344853\n",
      "O2[ 400 ], Steam[ 1000 ]: 0.30904736150815115 , 1.1499209429351733 , 0.36961744594344853\n",
      "O2[ 400 ], Steam[ 1500 ]: 0.30904736150815115 , 1.7248814144027598 , 0.36961744594344853\n",
      "O2[ 400 ], Steam[ 2000 ]: 0.30904736150815115 , 2.2998418858703467 , 0.36961744594344853\n",
      "O2[ 400 ], Steam[ 2500 ]: 0.30904736150815115 , 2.874802357337933 , 0.36961744594344853\n",
      "O2[ 400 ], Steam[ 3000 ]: 0.30904736150815115 , 3.4497628288055195 , 0.36961744594344853\n"
     ]
    }
   ],
   "source": [
    "for o in range(50,450,50):\n",
    "    for s in range(500,3500,500):    \n",
    "        ER, S_C, O_C = gasification_properties(Mf, s, o, ult)\n",
    "        print('O2[', o, '], Steam[', s, ']:', ER, ',', S_C, ',', O_C)"
   ]
  },
  {
   "cell_type": "markdown",
   "metadata": {
    "slideshow": {
     "slide_type": "slide"
    }
   },
   "source": [
    "Carryout same simulation and store the value in a list variable"
   ]
  },
  {
   "cell_type": "code",
   "execution_count": 12,
   "metadata": {
    "slideshow": {
     "slide_type": "subslide"
    }
   },
   "outputs": [],
   "source": [
    "result_list = []\n",
    "for o in range(50,450,50):\n",
    "    for s in range(500,3500,500):    \n",
    "        ER, S_C, O_C = gasification_properties(Mf, s, o, ult)\n",
    "        result_list.append([o,s,ER,S_C, O_C])\n"
   ]
  },
  {
   "cell_type": "code",
   "execution_count": 13,
   "metadata": {
    "slideshow": {
     "slide_type": "slide"
    }
   },
   "outputs": [
    {
     "data": {
      "text/plain": [
       "[[50, 500, 0.038630920188518894, 0.5749604714675867, 0.046202180742931066],\n",
       " [50, 1000, 0.038630920188518894, 1.1499209429351733, 0.046202180742931066],\n",
       " [50, 1500, 0.038630920188518894, 1.7248814144027598, 0.046202180742931066],\n",
       " [50, 2000, 0.038630920188518894, 2.2998418858703467, 0.046202180742931066],\n",
       " [50, 2500, 0.038630920188518894, 2.874802357337933, 0.046202180742931066],\n",
       " [50, 3000, 0.038630920188518894, 3.4497628288055195, 0.046202180742931066],\n",
       " [100, 500, 0.07726184037703779, 0.5749604714675867, 0.09240436148586213],\n",
       " [100, 1000, 0.07726184037703779, 1.1499209429351733, 0.09240436148586213],\n",
       " [100, 1500, 0.07726184037703779, 1.7248814144027598, 0.09240436148586213],\n",
       " [100, 2000, 0.07726184037703779, 2.2998418858703467, 0.09240436148586213],\n",
       " [100, 2500, 0.07726184037703779, 2.874802357337933, 0.09240436148586213],\n",
       " [100, 3000, 0.07726184037703779, 3.4497628288055195, 0.09240436148586213],\n",
       " [150, 500, 0.1158927605655567, 0.5749604714675867, 0.1386065422287932],\n",
       " [150, 1000, 0.1158927605655567, 1.1499209429351733, 0.1386065422287932],\n",
       " [150, 1500, 0.1158927605655567, 1.7248814144027598, 0.1386065422287932],\n",
       " [150, 2000, 0.1158927605655567, 2.2998418858703467, 0.1386065422287932],\n",
       " [150, 2500, 0.1158927605655567, 2.874802357337933, 0.1386065422287932],\n",
       " [150, 3000, 0.1158927605655567, 3.4497628288055195, 0.1386065422287932],\n",
       " [200, 500, 0.15452368075407558, 0.5749604714675867, 0.18480872297172427],\n",
       " [200, 1000, 0.15452368075407558, 1.1499209429351733, 0.18480872297172427],\n",
       " [200, 1500, 0.15452368075407558, 1.7248814144027598, 0.18480872297172427],\n",
       " [200, 2000, 0.15452368075407558, 2.2998418858703467, 0.18480872297172427],\n",
       " [200, 2500, 0.15452368075407558, 2.874802357337933, 0.18480872297172427],\n",
       " [200, 3000, 0.15452368075407558, 3.4497628288055195, 0.18480872297172427],\n",
       " [250, 500, 0.19315460094259448, 0.5749604714675867, 0.23101090371465535],\n",
       " [250, 1000, 0.19315460094259448, 1.1499209429351733, 0.23101090371465535],\n",
       " [250, 1500, 0.19315460094259448, 1.7248814144027598, 0.23101090371465535],\n",
       " [250, 2000, 0.19315460094259448, 2.2998418858703467, 0.23101090371465535],\n",
       " [250, 2500, 0.19315460094259448, 2.874802357337933, 0.23101090371465535],\n",
       " [250, 3000, 0.19315460094259448, 3.4497628288055195, 0.23101090371465535],\n",
       " [300, 500, 0.2317855211311134, 0.5749604714675867, 0.2772130844575864],\n",
       " [300, 1000, 0.2317855211311134, 1.1499209429351733, 0.2772130844575864],\n",
       " [300, 1500, 0.2317855211311134, 1.7248814144027598, 0.2772130844575864],\n",
       " [300, 2000, 0.2317855211311134, 2.2998418858703467, 0.2772130844575864],\n",
       " [300, 2500, 0.2317855211311134, 2.874802357337933, 0.2772130844575864],\n",
       " [300, 3000, 0.2317855211311134, 3.4497628288055195, 0.2772130844575864],\n",
       " [350, 500, 0.2704164413196323, 0.5749604714675867, 0.3234152652005175],\n",
       " [350, 1000, 0.2704164413196323, 1.1499209429351733, 0.3234152652005175],\n",
       " [350, 1500, 0.2704164413196323, 1.7248814144027598, 0.3234152652005175],\n",
       " [350, 2000, 0.2704164413196323, 2.2998418858703467, 0.3234152652005175],\n",
       " [350, 2500, 0.2704164413196323, 2.874802357337933, 0.3234152652005175],\n",
       " [350, 3000, 0.2704164413196323, 3.4497628288055195, 0.3234152652005175],\n",
       " [400, 500, 0.30904736150815115, 0.5749604714675867, 0.36961744594344853],\n",
       " [400, 1000, 0.30904736150815115, 1.1499209429351733, 0.36961744594344853],\n",
       " [400, 1500, 0.30904736150815115, 1.7248814144027598, 0.36961744594344853],\n",
       " [400, 2000, 0.30904736150815115, 2.2998418858703467, 0.36961744594344853],\n",
       " [400, 2500, 0.30904736150815115, 2.874802357337933, 0.36961744594344853],\n",
       " [400, 3000, 0.30904736150815115, 3.4497628288055195, 0.36961744594344853]]"
      ]
     },
     "execution_count": 13,
     "metadata": {},
     "output_type": "execute_result"
    }
   ],
   "source": [
    "result_list"
   ]
  },
  {
   "cell_type": "markdown",
   "metadata": {
    "slideshow": {
     "slide_type": "slide"
    }
   },
   "source": [
    "Store the simulation results in a DataFrame variable."
   ]
  },
  {
   "cell_type": "code",
   "execution_count": 14,
   "metadata": {
    "slideshow": {
     "slide_type": "subslide"
    }
   },
   "outputs": [],
   "source": [
    "import numpy as np\n",
    "import pandas as pd\n",
    "import matplotlib.pyplot as plt"
   ]
  },
  {
   "cell_type": "code",
   "execution_count": 15,
   "metadata": {
    "slideshow": {
     "slide_type": "subslide"
    }
   },
   "outputs": [],
   "source": [
    "df = pd.DataFrame(result_list)"
   ]
  },
  {
   "cell_type": "code",
   "execution_count": 16,
   "metadata": {
    "slideshow": {
     "slide_type": "slide"
    }
   },
   "outputs": [
    {
     "data": {
      "text/html": [
       "<div>\n",
       "<style scoped>\n",
       "    .dataframe tbody tr th:only-of-type {\n",
       "        vertical-align: middle;\n",
       "    }\n",
       "\n",
       "    .dataframe tbody tr th {\n",
       "        vertical-align: top;\n",
       "    }\n",
       "\n",
       "    .dataframe thead th {\n",
       "        text-align: right;\n",
       "    }\n",
       "</style>\n",
       "<table border=\"1\" class=\"dataframe\">\n",
       "  <thead>\n",
       "    <tr style=\"text-align: right;\">\n",
       "      <th></th>\n",
       "      <th>0</th>\n",
       "      <th>1</th>\n",
       "      <th>2</th>\n",
       "      <th>3</th>\n",
       "      <th>4</th>\n",
       "    </tr>\n",
       "  </thead>\n",
       "  <tbody>\n",
       "    <tr>\n",
       "      <th>0</th>\n",
       "      <td>50</td>\n",
       "      <td>500</td>\n",
       "      <td>0.038631</td>\n",
       "      <td>0.574960</td>\n",
       "      <td>0.046202</td>\n",
       "    </tr>\n",
       "    <tr>\n",
       "      <th>1</th>\n",
       "      <td>50</td>\n",
       "      <td>1000</td>\n",
       "      <td>0.038631</td>\n",
       "      <td>1.149921</td>\n",
       "      <td>0.046202</td>\n",
       "    </tr>\n",
       "    <tr>\n",
       "      <th>2</th>\n",
       "      <td>50</td>\n",
       "      <td>1500</td>\n",
       "      <td>0.038631</td>\n",
       "      <td>1.724881</td>\n",
       "      <td>0.046202</td>\n",
       "    </tr>\n",
       "    <tr>\n",
       "      <th>3</th>\n",
       "      <td>50</td>\n",
       "      <td>2000</td>\n",
       "      <td>0.038631</td>\n",
       "      <td>2.299842</td>\n",
       "      <td>0.046202</td>\n",
       "    </tr>\n",
       "    <tr>\n",
       "      <th>4</th>\n",
       "      <td>50</td>\n",
       "      <td>2500</td>\n",
       "      <td>0.038631</td>\n",
       "      <td>2.874802</td>\n",
       "      <td>0.046202</td>\n",
       "    </tr>\n",
       "    <tr>\n",
       "      <th>5</th>\n",
       "      <td>50</td>\n",
       "      <td>3000</td>\n",
       "      <td>0.038631</td>\n",
       "      <td>3.449763</td>\n",
       "      <td>0.046202</td>\n",
       "    </tr>\n",
       "    <tr>\n",
       "      <th>6</th>\n",
       "      <td>100</td>\n",
       "      <td>500</td>\n",
       "      <td>0.077262</td>\n",
       "      <td>0.574960</td>\n",
       "      <td>0.092404</td>\n",
       "    </tr>\n",
       "    <tr>\n",
       "      <th>7</th>\n",
       "      <td>100</td>\n",
       "      <td>1000</td>\n",
       "      <td>0.077262</td>\n",
       "      <td>1.149921</td>\n",
       "      <td>0.092404</td>\n",
       "    </tr>\n",
       "    <tr>\n",
       "      <th>8</th>\n",
       "      <td>100</td>\n",
       "      <td>1500</td>\n",
       "      <td>0.077262</td>\n",
       "      <td>1.724881</td>\n",
       "      <td>0.092404</td>\n",
       "    </tr>\n",
       "    <tr>\n",
       "      <th>9</th>\n",
       "      <td>100</td>\n",
       "      <td>2000</td>\n",
       "      <td>0.077262</td>\n",
       "      <td>2.299842</td>\n",
       "      <td>0.092404</td>\n",
       "    </tr>\n",
       "    <tr>\n",
       "      <th>10</th>\n",
       "      <td>100</td>\n",
       "      <td>2500</td>\n",
       "      <td>0.077262</td>\n",
       "      <td>2.874802</td>\n",
       "      <td>0.092404</td>\n",
       "    </tr>\n",
       "    <tr>\n",
       "      <th>11</th>\n",
       "      <td>100</td>\n",
       "      <td>3000</td>\n",
       "      <td>0.077262</td>\n",
       "      <td>3.449763</td>\n",
       "      <td>0.092404</td>\n",
       "    </tr>\n",
       "    <tr>\n",
       "      <th>12</th>\n",
       "      <td>150</td>\n",
       "      <td>500</td>\n",
       "      <td>0.115893</td>\n",
       "      <td>0.574960</td>\n",
       "      <td>0.138607</td>\n",
       "    </tr>\n",
       "    <tr>\n",
       "      <th>13</th>\n",
       "      <td>150</td>\n",
       "      <td>1000</td>\n",
       "      <td>0.115893</td>\n",
       "      <td>1.149921</td>\n",
       "      <td>0.138607</td>\n",
       "    </tr>\n",
       "    <tr>\n",
       "      <th>14</th>\n",
       "      <td>150</td>\n",
       "      <td>1500</td>\n",
       "      <td>0.115893</td>\n",
       "      <td>1.724881</td>\n",
       "      <td>0.138607</td>\n",
       "    </tr>\n",
       "    <tr>\n",
       "      <th>15</th>\n",
       "      <td>150</td>\n",
       "      <td>2000</td>\n",
       "      <td>0.115893</td>\n",
       "      <td>2.299842</td>\n",
       "      <td>0.138607</td>\n",
       "    </tr>\n",
       "    <tr>\n",
       "      <th>16</th>\n",
       "      <td>150</td>\n",
       "      <td>2500</td>\n",
       "      <td>0.115893</td>\n",
       "      <td>2.874802</td>\n",
       "      <td>0.138607</td>\n",
       "    </tr>\n",
       "    <tr>\n",
       "      <th>17</th>\n",
       "      <td>150</td>\n",
       "      <td>3000</td>\n",
       "      <td>0.115893</td>\n",
       "      <td>3.449763</td>\n",
       "      <td>0.138607</td>\n",
       "    </tr>\n",
       "    <tr>\n",
       "      <th>18</th>\n",
       "      <td>200</td>\n",
       "      <td>500</td>\n",
       "      <td>0.154524</td>\n",
       "      <td>0.574960</td>\n",
       "      <td>0.184809</td>\n",
       "    </tr>\n",
       "    <tr>\n",
       "      <th>19</th>\n",
       "      <td>200</td>\n",
       "      <td>1000</td>\n",
       "      <td>0.154524</td>\n",
       "      <td>1.149921</td>\n",
       "      <td>0.184809</td>\n",
       "    </tr>\n",
       "    <tr>\n",
       "      <th>20</th>\n",
       "      <td>200</td>\n",
       "      <td>1500</td>\n",
       "      <td>0.154524</td>\n",
       "      <td>1.724881</td>\n",
       "      <td>0.184809</td>\n",
       "    </tr>\n",
       "    <tr>\n",
       "      <th>21</th>\n",
       "      <td>200</td>\n",
       "      <td>2000</td>\n",
       "      <td>0.154524</td>\n",
       "      <td>2.299842</td>\n",
       "      <td>0.184809</td>\n",
       "    </tr>\n",
       "    <tr>\n",
       "      <th>22</th>\n",
       "      <td>200</td>\n",
       "      <td>2500</td>\n",
       "      <td>0.154524</td>\n",
       "      <td>2.874802</td>\n",
       "      <td>0.184809</td>\n",
       "    </tr>\n",
       "    <tr>\n",
       "      <th>23</th>\n",
       "      <td>200</td>\n",
       "      <td>3000</td>\n",
       "      <td>0.154524</td>\n",
       "      <td>3.449763</td>\n",
       "      <td>0.184809</td>\n",
       "    </tr>\n",
       "    <tr>\n",
       "      <th>24</th>\n",
       "      <td>250</td>\n",
       "      <td>500</td>\n",
       "      <td>0.193155</td>\n",
       "      <td>0.574960</td>\n",
       "      <td>0.231011</td>\n",
       "    </tr>\n",
       "    <tr>\n",
       "      <th>25</th>\n",
       "      <td>250</td>\n",
       "      <td>1000</td>\n",
       "      <td>0.193155</td>\n",
       "      <td>1.149921</td>\n",
       "      <td>0.231011</td>\n",
       "    </tr>\n",
       "    <tr>\n",
       "      <th>26</th>\n",
       "      <td>250</td>\n",
       "      <td>1500</td>\n",
       "      <td>0.193155</td>\n",
       "      <td>1.724881</td>\n",
       "      <td>0.231011</td>\n",
       "    </tr>\n",
       "    <tr>\n",
       "      <th>27</th>\n",
       "      <td>250</td>\n",
       "      <td>2000</td>\n",
       "      <td>0.193155</td>\n",
       "      <td>2.299842</td>\n",
       "      <td>0.231011</td>\n",
       "    </tr>\n",
       "    <tr>\n",
       "      <th>28</th>\n",
       "      <td>250</td>\n",
       "      <td>2500</td>\n",
       "      <td>0.193155</td>\n",
       "      <td>2.874802</td>\n",
       "      <td>0.231011</td>\n",
       "    </tr>\n",
       "    <tr>\n",
       "      <th>29</th>\n",
       "      <td>250</td>\n",
       "      <td>3000</td>\n",
       "      <td>0.193155</td>\n",
       "      <td>3.449763</td>\n",
       "      <td>0.231011</td>\n",
       "    </tr>\n",
       "    <tr>\n",
       "      <th>30</th>\n",
       "      <td>300</td>\n",
       "      <td>500</td>\n",
       "      <td>0.231786</td>\n",
       "      <td>0.574960</td>\n",
       "      <td>0.277213</td>\n",
       "    </tr>\n",
       "    <tr>\n",
       "      <th>31</th>\n",
       "      <td>300</td>\n",
       "      <td>1000</td>\n",
       "      <td>0.231786</td>\n",
       "      <td>1.149921</td>\n",
       "      <td>0.277213</td>\n",
       "    </tr>\n",
       "    <tr>\n",
       "      <th>32</th>\n",
       "      <td>300</td>\n",
       "      <td>1500</td>\n",
       "      <td>0.231786</td>\n",
       "      <td>1.724881</td>\n",
       "      <td>0.277213</td>\n",
       "    </tr>\n",
       "    <tr>\n",
       "      <th>33</th>\n",
       "      <td>300</td>\n",
       "      <td>2000</td>\n",
       "      <td>0.231786</td>\n",
       "      <td>2.299842</td>\n",
       "      <td>0.277213</td>\n",
       "    </tr>\n",
       "    <tr>\n",
       "      <th>34</th>\n",
       "      <td>300</td>\n",
       "      <td>2500</td>\n",
       "      <td>0.231786</td>\n",
       "      <td>2.874802</td>\n",
       "      <td>0.277213</td>\n",
       "    </tr>\n",
       "    <tr>\n",
       "      <th>35</th>\n",
       "      <td>300</td>\n",
       "      <td>3000</td>\n",
       "      <td>0.231786</td>\n",
       "      <td>3.449763</td>\n",
       "      <td>0.277213</td>\n",
       "    </tr>\n",
       "    <tr>\n",
       "      <th>36</th>\n",
       "      <td>350</td>\n",
       "      <td>500</td>\n",
       "      <td>0.270416</td>\n",
       "      <td>0.574960</td>\n",
       "      <td>0.323415</td>\n",
       "    </tr>\n",
       "    <tr>\n",
       "      <th>37</th>\n",
       "      <td>350</td>\n",
       "      <td>1000</td>\n",
       "      <td>0.270416</td>\n",
       "      <td>1.149921</td>\n",
       "      <td>0.323415</td>\n",
       "    </tr>\n",
       "    <tr>\n",
       "      <th>38</th>\n",
       "      <td>350</td>\n",
       "      <td>1500</td>\n",
       "      <td>0.270416</td>\n",
       "      <td>1.724881</td>\n",
       "      <td>0.323415</td>\n",
       "    </tr>\n",
       "    <tr>\n",
       "      <th>39</th>\n",
       "      <td>350</td>\n",
       "      <td>2000</td>\n",
       "      <td>0.270416</td>\n",
       "      <td>2.299842</td>\n",
       "      <td>0.323415</td>\n",
       "    </tr>\n",
       "    <tr>\n",
       "      <th>40</th>\n",
       "      <td>350</td>\n",
       "      <td>2500</td>\n",
       "      <td>0.270416</td>\n",
       "      <td>2.874802</td>\n",
       "      <td>0.323415</td>\n",
       "    </tr>\n",
       "    <tr>\n",
       "      <th>41</th>\n",
       "      <td>350</td>\n",
       "      <td>3000</td>\n",
       "      <td>0.270416</td>\n",
       "      <td>3.449763</td>\n",
       "      <td>0.323415</td>\n",
       "    </tr>\n",
       "    <tr>\n",
       "      <th>42</th>\n",
       "      <td>400</td>\n",
       "      <td>500</td>\n",
       "      <td>0.309047</td>\n",
       "      <td>0.574960</td>\n",
       "      <td>0.369617</td>\n",
       "    </tr>\n",
       "    <tr>\n",
       "      <th>43</th>\n",
       "      <td>400</td>\n",
       "      <td>1000</td>\n",
       "      <td>0.309047</td>\n",
       "      <td>1.149921</td>\n",
       "      <td>0.369617</td>\n",
       "    </tr>\n",
       "    <tr>\n",
       "      <th>44</th>\n",
       "      <td>400</td>\n",
       "      <td>1500</td>\n",
       "      <td>0.309047</td>\n",
       "      <td>1.724881</td>\n",
       "      <td>0.369617</td>\n",
       "    </tr>\n",
       "    <tr>\n",
       "      <th>45</th>\n",
       "      <td>400</td>\n",
       "      <td>2000</td>\n",
       "      <td>0.309047</td>\n",
       "      <td>2.299842</td>\n",
       "      <td>0.369617</td>\n",
       "    </tr>\n",
       "    <tr>\n",
       "      <th>46</th>\n",
       "      <td>400</td>\n",
       "      <td>2500</td>\n",
       "      <td>0.309047</td>\n",
       "      <td>2.874802</td>\n",
       "      <td>0.369617</td>\n",
       "    </tr>\n",
       "    <tr>\n",
       "      <th>47</th>\n",
       "      <td>400</td>\n",
       "      <td>3000</td>\n",
       "      <td>0.309047</td>\n",
       "      <td>3.449763</td>\n",
       "      <td>0.369617</td>\n",
       "    </tr>\n",
       "  </tbody>\n",
       "</table>\n",
       "</div>"
      ],
      "text/plain": [
       "      0     1         2         3         4\n",
       "0    50   500  0.038631  0.574960  0.046202\n",
       "1    50  1000  0.038631  1.149921  0.046202\n",
       "2    50  1500  0.038631  1.724881  0.046202\n",
       "3    50  2000  0.038631  2.299842  0.046202\n",
       "4    50  2500  0.038631  2.874802  0.046202\n",
       "5    50  3000  0.038631  3.449763  0.046202\n",
       "6   100   500  0.077262  0.574960  0.092404\n",
       "7   100  1000  0.077262  1.149921  0.092404\n",
       "8   100  1500  0.077262  1.724881  0.092404\n",
       "9   100  2000  0.077262  2.299842  0.092404\n",
       "10  100  2500  0.077262  2.874802  0.092404\n",
       "11  100  3000  0.077262  3.449763  0.092404\n",
       "12  150   500  0.115893  0.574960  0.138607\n",
       "13  150  1000  0.115893  1.149921  0.138607\n",
       "14  150  1500  0.115893  1.724881  0.138607\n",
       "15  150  2000  0.115893  2.299842  0.138607\n",
       "16  150  2500  0.115893  2.874802  0.138607\n",
       "17  150  3000  0.115893  3.449763  0.138607\n",
       "18  200   500  0.154524  0.574960  0.184809\n",
       "19  200  1000  0.154524  1.149921  0.184809\n",
       "20  200  1500  0.154524  1.724881  0.184809\n",
       "21  200  2000  0.154524  2.299842  0.184809\n",
       "22  200  2500  0.154524  2.874802  0.184809\n",
       "23  200  3000  0.154524  3.449763  0.184809\n",
       "24  250   500  0.193155  0.574960  0.231011\n",
       "25  250  1000  0.193155  1.149921  0.231011\n",
       "26  250  1500  0.193155  1.724881  0.231011\n",
       "27  250  2000  0.193155  2.299842  0.231011\n",
       "28  250  2500  0.193155  2.874802  0.231011\n",
       "29  250  3000  0.193155  3.449763  0.231011\n",
       "30  300   500  0.231786  0.574960  0.277213\n",
       "31  300  1000  0.231786  1.149921  0.277213\n",
       "32  300  1500  0.231786  1.724881  0.277213\n",
       "33  300  2000  0.231786  2.299842  0.277213\n",
       "34  300  2500  0.231786  2.874802  0.277213\n",
       "35  300  3000  0.231786  3.449763  0.277213\n",
       "36  350   500  0.270416  0.574960  0.323415\n",
       "37  350  1000  0.270416  1.149921  0.323415\n",
       "38  350  1500  0.270416  1.724881  0.323415\n",
       "39  350  2000  0.270416  2.299842  0.323415\n",
       "40  350  2500  0.270416  2.874802  0.323415\n",
       "41  350  3000  0.270416  3.449763  0.323415\n",
       "42  400   500  0.309047  0.574960  0.369617\n",
       "43  400  1000  0.309047  1.149921  0.369617\n",
       "44  400  1500  0.309047  1.724881  0.369617\n",
       "45  400  2000  0.309047  2.299842  0.369617\n",
       "46  400  2500  0.309047  2.874802  0.369617\n",
       "47  400  3000  0.309047  3.449763  0.369617"
      ]
     },
     "execution_count": 16,
     "metadata": {},
     "output_type": "execute_result"
    }
   ],
   "source": [
    "df"
   ]
  },
  {
   "cell_type": "markdown",
   "metadata": {
    "slideshow": {
     "slide_type": "slide"
    }
   },
   "source": [
    "Add proper label to the columns of the DataFrame"
   ]
  },
  {
   "cell_type": "code",
   "execution_count": 17,
   "metadata": {
    "slideshow": {
     "slide_type": "subslide"
    }
   },
   "outputs": [],
   "source": [
    "df2 = pd.DataFrame(result_list, columns=['O2','Steam', 'ER','S_C', 'O_C'])"
   ]
  },
  {
   "cell_type": "markdown",
   "metadata": {
    "slideshow": {
     "slide_type": "slide"
    }
   },
   "source": [
    "Display the first few rows using **head()** function"
   ]
  },
  {
   "cell_type": "code",
   "execution_count": 18,
   "metadata": {
    "slideshow": {
     "slide_type": "subslide"
    }
   },
   "outputs": [
    {
     "data": {
      "text/html": [
       "<div>\n",
       "<style scoped>\n",
       "    .dataframe tbody tr th:only-of-type {\n",
       "        vertical-align: middle;\n",
       "    }\n",
       "\n",
       "    .dataframe tbody tr th {\n",
       "        vertical-align: top;\n",
       "    }\n",
       "\n",
       "    .dataframe thead th {\n",
       "        text-align: right;\n",
       "    }\n",
       "</style>\n",
       "<table border=\"1\" class=\"dataframe\">\n",
       "  <thead>\n",
       "    <tr style=\"text-align: right;\">\n",
       "      <th></th>\n",
       "      <th>O2</th>\n",
       "      <th>Steam</th>\n",
       "      <th>ER</th>\n",
       "      <th>S_C</th>\n",
       "      <th>O_C</th>\n",
       "    </tr>\n",
       "  </thead>\n",
       "  <tbody>\n",
       "    <tr>\n",
       "      <th>0</th>\n",
       "      <td>50</td>\n",
       "      <td>500</td>\n",
       "      <td>0.038631</td>\n",
       "      <td>0.574960</td>\n",
       "      <td>0.046202</td>\n",
       "    </tr>\n",
       "    <tr>\n",
       "      <th>1</th>\n",
       "      <td>50</td>\n",
       "      <td>1000</td>\n",
       "      <td>0.038631</td>\n",
       "      <td>1.149921</td>\n",
       "      <td>0.046202</td>\n",
       "    </tr>\n",
       "    <tr>\n",
       "      <th>2</th>\n",
       "      <td>50</td>\n",
       "      <td>1500</td>\n",
       "      <td>0.038631</td>\n",
       "      <td>1.724881</td>\n",
       "      <td>0.046202</td>\n",
       "    </tr>\n",
       "    <tr>\n",
       "      <th>3</th>\n",
       "      <td>50</td>\n",
       "      <td>2000</td>\n",
       "      <td>0.038631</td>\n",
       "      <td>2.299842</td>\n",
       "      <td>0.046202</td>\n",
       "    </tr>\n",
       "    <tr>\n",
       "      <th>4</th>\n",
       "      <td>50</td>\n",
       "      <td>2500</td>\n",
       "      <td>0.038631</td>\n",
       "      <td>2.874802</td>\n",
       "      <td>0.046202</td>\n",
       "    </tr>\n",
       "  </tbody>\n",
       "</table>\n",
       "</div>"
      ],
      "text/plain": [
       "   O2  Steam        ER       S_C       O_C\n",
       "0  50    500  0.038631  0.574960  0.046202\n",
       "1  50   1000  0.038631  1.149921  0.046202\n",
       "2  50   1500  0.038631  1.724881  0.046202\n",
       "3  50   2000  0.038631  2.299842  0.046202\n",
       "4  50   2500  0.038631  2.874802  0.046202"
      ]
     },
     "execution_count": 18,
     "metadata": {},
     "output_type": "execute_result"
    }
   ],
   "source": [
    "df2.head()"
   ]
  },
  {
   "cell_type": "markdown",
   "metadata": {
    "slideshow": {
     "slide_type": "slide"
    }
   },
   "source": [
    "Display the last few rows using **tail()** function"
   ]
  },
  {
   "cell_type": "code",
   "execution_count": 19,
   "metadata": {
    "slideshow": {
     "slide_type": "subslide"
    }
   },
   "outputs": [
    {
     "data": {
      "text/html": [
       "<div>\n",
       "<style scoped>\n",
       "    .dataframe tbody tr th:only-of-type {\n",
       "        vertical-align: middle;\n",
       "    }\n",
       "\n",
       "    .dataframe tbody tr th {\n",
       "        vertical-align: top;\n",
       "    }\n",
       "\n",
       "    .dataframe thead th {\n",
       "        text-align: right;\n",
       "    }\n",
       "</style>\n",
       "<table border=\"1\" class=\"dataframe\">\n",
       "  <thead>\n",
       "    <tr style=\"text-align: right;\">\n",
       "      <th></th>\n",
       "      <th>O2</th>\n",
       "      <th>Steam</th>\n",
       "      <th>ER</th>\n",
       "      <th>S_C</th>\n",
       "      <th>O_C</th>\n",
       "    </tr>\n",
       "  </thead>\n",
       "  <tbody>\n",
       "    <tr>\n",
       "      <th>43</th>\n",
       "      <td>400</td>\n",
       "      <td>1000</td>\n",
       "      <td>0.309047</td>\n",
       "      <td>1.149921</td>\n",
       "      <td>0.369617</td>\n",
       "    </tr>\n",
       "    <tr>\n",
       "      <th>44</th>\n",
       "      <td>400</td>\n",
       "      <td>1500</td>\n",
       "      <td>0.309047</td>\n",
       "      <td>1.724881</td>\n",
       "      <td>0.369617</td>\n",
       "    </tr>\n",
       "    <tr>\n",
       "      <th>45</th>\n",
       "      <td>400</td>\n",
       "      <td>2000</td>\n",
       "      <td>0.309047</td>\n",
       "      <td>2.299842</td>\n",
       "      <td>0.369617</td>\n",
       "    </tr>\n",
       "    <tr>\n",
       "      <th>46</th>\n",
       "      <td>400</td>\n",
       "      <td>2500</td>\n",
       "      <td>0.309047</td>\n",
       "      <td>2.874802</td>\n",
       "      <td>0.369617</td>\n",
       "    </tr>\n",
       "    <tr>\n",
       "      <th>47</th>\n",
       "      <td>400</td>\n",
       "      <td>3000</td>\n",
       "      <td>0.309047</td>\n",
       "      <td>3.449763</td>\n",
       "      <td>0.369617</td>\n",
       "    </tr>\n",
       "  </tbody>\n",
       "</table>\n",
       "</div>"
      ],
      "text/plain": [
       "     O2  Steam        ER       S_C       O_C\n",
       "43  400   1000  0.309047  1.149921  0.369617\n",
       "44  400   1500  0.309047  1.724881  0.369617\n",
       "45  400   2000  0.309047  2.299842  0.369617\n",
       "46  400   2500  0.309047  2.874802  0.369617\n",
       "47  400   3000  0.309047  3.449763  0.369617"
      ]
     },
     "execution_count": 19,
     "metadata": {},
     "output_type": "execute_result"
    }
   ],
   "source": [
    "df2.tail()"
   ]
  },
  {
   "cell_type": "markdown",
   "metadata": {
    "slideshow": {
     "slide_type": "slide"
    }
   },
   "source": [
    "Display the first 10 rows using **head()** function"
   ]
  },
  {
   "cell_type": "code",
   "execution_count": 20,
   "metadata": {
    "slideshow": {
     "slide_type": "subslide"
    }
   },
   "outputs": [
    {
     "data": {
      "text/html": [
       "<div>\n",
       "<style scoped>\n",
       "    .dataframe tbody tr th:only-of-type {\n",
       "        vertical-align: middle;\n",
       "    }\n",
       "\n",
       "    .dataframe tbody tr th {\n",
       "        vertical-align: top;\n",
       "    }\n",
       "\n",
       "    .dataframe thead th {\n",
       "        text-align: right;\n",
       "    }\n",
       "</style>\n",
       "<table border=\"1\" class=\"dataframe\">\n",
       "  <thead>\n",
       "    <tr style=\"text-align: right;\">\n",
       "      <th></th>\n",
       "      <th>O2</th>\n",
       "      <th>Steam</th>\n",
       "      <th>ER</th>\n",
       "      <th>S_C</th>\n",
       "      <th>O_C</th>\n",
       "    </tr>\n",
       "  </thead>\n",
       "  <tbody>\n",
       "    <tr>\n",
       "      <th>0</th>\n",
       "      <td>50</td>\n",
       "      <td>500</td>\n",
       "      <td>0.038631</td>\n",
       "      <td>0.574960</td>\n",
       "      <td>0.046202</td>\n",
       "    </tr>\n",
       "    <tr>\n",
       "      <th>1</th>\n",
       "      <td>50</td>\n",
       "      <td>1000</td>\n",
       "      <td>0.038631</td>\n",
       "      <td>1.149921</td>\n",
       "      <td>0.046202</td>\n",
       "    </tr>\n",
       "    <tr>\n",
       "      <th>2</th>\n",
       "      <td>50</td>\n",
       "      <td>1500</td>\n",
       "      <td>0.038631</td>\n",
       "      <td>1.724881</td>\n",
       "      <td>0.046202</td>\n",
       "    </tr>\n",
       "    <tr>\n",
       "      <th>3</th>\n",
       "      <td>50</td>\n",
       "      <td>2000</td>\n",
       "      <td>0.038631</td>\n",
       "      <td>2.299842</td>\n",
       "      <td>0.046202</td>\n",
       "    </tr>\n",
       "    <tr>\n",
       "      <th>4</th>\n",
       "      <td>50</td>\n",
       "      <td>2500</td>\n",
       "      <td>0.038631</td>\n",
       "      <td>2.874802</td>\n",
       "      <td>0.046202</td>\n",
       "    </tr>\n",
       "    <tr>\n",
       "      <th>5</th>\n",
       "      <td>50</td>\n",
       "      <td>3000</td>\n",
       "      <td>0.038631</td>\n",
       "      <td>3.449763</td>\n",
       "      <td>0.046202</td>\n",
       "    </tr>\n",
       "    <tr>\n",
       "      <th>6</th>\n",
       "      <td>100</td>\n",
       "      <td>500</td>\n",
       "      <td>0.077262</td>\n",
       "      <td>0.574960</td>\n",
       "      <td>0.092404</td>\n",
       "    </tr>\n",
       "    <tr>\n",
       "      <th>7</th>\n",
       "      <td>100</td>\n",
       "      <td>1000</td>\n",
       "      <td>0.077262</td>\n",
       "      <td>1.149921</td>\n",
       "      <td>0.092404</td>\n",
       "    </tr>\n",
       "    <tr>\n",
       "      <th>8</th>\n",
       "      <td>100</td>\n",
       "      <td>1500</td>\n",
       "      <td>0.077262</td>\n",
       "      <td>1.724881</td>\n",
       "      <td>0.092404</td>\n",
       "    </tr>\n",
       "    <tr>\n",
       "      <th>9</th>\n",
       "      <td>100</td>\n",
       "      <td>2000</td>\n",
       "      <td>0.077262</td>\n",
       "      <td>2.299842</td>\n",
       "      <td>0.092404</td>\n",
       "    </tr>\n",
       "  </tbody>\n",
       "</table>\n",
       "</div>"
      ],
      "text/plain": [
       "    O2  Steam        ER       S_C       O_C\n",
       "0   50    500  0.038631  0.574960  0.046202\n",
       "1   50   1000  0.038631  1.149921  0.046202\n",
       "2   50   1500  0.038631  1.724881  0.046202\n",
       "3   50   2000  0.038631  2.299842  0.046202\n",
       "4   50   2500  0.038631  2.874802  0.046202\n",
       "5   50   3000  0.038631  3.449763  0.046202\n",
       "6  100    500  0.077262  0.574960  0.092404\n",
       "7  100   1000  0.077262  1.149921  0.092404\n",
       "8  100   1500  0.077262  1.724881  0.092404\n",
       "9  100   2000  0.077262  2.299842  0.092404"
      ]
     },
     "execution_count": 20,
     "metadata": {},
     "output_type": "execute_result"
    }
   ],
   "source": [
    "df2.head(10)"
   ]
  },
  {
   "cell_type": "markdown",
   "metadata": {
    "slideshow": {
     "slide_type": "slide"
    }
   },
   "source": [
    "**Quiz**   \n",
    "Visual the DataFrame simulation results"
   ]
  },
  {
   "cell_type": "code",
   "execution_count": 21,
   "metadata": {
    "slideshow": {
     "slide_type": "subslide"
    }
   },
   "outputs": [
    {
     "data": {
      "text/plain": [
       "<AxesSubplot:>"
      ]
     },
     "execution_count": 21,
     "metadata": {},
     "output_type": "execute_result"
    },
    {
     "data": {
      "image/png": "[encoded data removed]",
      "text/plain": [
       "<Figure size 432x288 with 1 Axes>"
      ]
     },
     "metadata": {
      "needs_background": "light"
     },
     "output_type": "display_data"
    }
   ],
   "source": [
    "df2.plot()"
   ]
  },
  {
   "cell_type": "markdown",
   "metadata": {
    "slideshow": {
     "slide_type": "slide"
    }
   },
   "source": [
    "Plot the chart using pyplot object"
   ]
  },
  {
   "cell_type": "code",
   "execution_count": 22,
   "metadata": {
    "slideshow": {
     "slide_type": "subslide"
    }
   },
   "outputs": [
    {
     "data": {
      "text/plain": [
       "[<matplotlib.lines.Line2D at 0x17f4b7d4df0>,\n",
       " <matplotlib.lines.Line2D at 0x17f4b7d4eb0>,\n",
       " <matplotlib.lines.Line2D at 0x17f4b7d4f70>,\n",
       " <matplotlib.lines.Line2D at 0x17f4b7e2070>,\n",
       " <matplotlib.lines.Line2D at 0x17f4b7e2130>]"
      ]
     },
     "execution_count": 22,
     "metadata": {},
     "output_type": "execute_result"
    },
    {
     "data": {
      "image/png": "[encoded data removed]",
      "text/plain": [
       "<Figure size 432x288 with 1 Axes>"
      ]
     },
     "metadata": {
      "needs_background": "light"
     },
     "output_type": "display_data"
    }
   ],
   "source": [
    "plt.plot(df2)"
   ]
  },
  {
   "cell_type": "markdown",
   "metadata": {
    "slideshow": {
     "slide_type": "slide"
    }
   },
   "source": [
    "Visualize the simulation with change in Oxygen at a constant steam. "
   ]
  },
  {
   "cell_type": "code",
   "execution_count": 23,
   "metadata": {
    "slideshow": {
     "slide_type": "subslide"
    }
   },
   "outputs": [],
   "source": [
    "df_O2 = df2.set_index('O2')"
   ]
  },
  {
   "cell_type": "code",
   "execution_count": 24,
   "metadata": {
    "slideshow": {
     "slide_type": "subslide"
    }
   },
   "outputs": [
    {
     "data": {
      "text/html": [
       "<div>\n",
       "<style scoped>\n",
       "    .dataframe tbody tr th:only-of-type {\n",
       "        vertical-align: middle;\n",
       "    }\n",
       "\n",
       "    .dataframe tbody tr th {\n",
       "        vertical-align: top;\n",
       "    }\n",
       "\n",
       "    .dataframe thead th {\n",
       "        text-align: right;\n",
       "    }\n",
       "</style>\n",
       "<table border=\"1\" class=\"dataframe\">\n",
       "  <thead>\n",
       "    <tr style=\"text-align: right;\">\n",
       "      <th></th>\n",
       "      <th>Steam</th>\n",
       "      <th>ER</th>\n",
       "      <th>S_C</th>\n",
       "      <th>O_C</th>\n",
       "    </tr>\n",
       "    <tr>\n",
       "      <th>O2</th>\n",
       "      <th></th>\n",
       "      <th></th>\n",
       "      <th></th>\n",
       "      <th></th>\n",
       "    </tr>\n",
       "  </thead>\n",
       "  <tbody>\n",
       "    <tr>\n",
       "      <th>50</th>\n",
       "      <td>500</td>\n",
       "      <td>0.038631</td>\n",
       "      <td>0.574960</td>\n",
       "      <td>0.046202</td>\n",
       "    </tr>\n",
       "    <tr>\n",
       "      <th>50</th>\n",
       "      <td>1000</td>\n",
       "      <td>0.038631</td>\n",
       "      <td>1.149921</td>\n",
       "      <td>0.046202</td>\n",
       "    </tr>\n",
       "    <tr>\n",
       "      <th>50</th>\n",
       "      <td>1500</td>\n",
       "      <td>0.038631</td>\n",
       "      <td>1.724881</td>\n",
       "      <td>0.046202</td>\n",
       "    </tr>\n",
       "    <tr>\n",
       "      <th>50</th>\n",
       "      <td>2000</td>\n",
       "      <td>0.038631</td>\n",
       "      <td>2.299842</td>\n",
       "      <td>0.046202</td>\n",
       "    </tr>\n",
       "    <tr>\n",
       "      <th>50</th>\n",
       "      <td>2500</td>\n",
       "      <td>0.038631</td>\n",
       "      <td>2.874802</td>\n",
       "      <td>0.046202</td>\n",
       "    </tr>\n",
       "  </tbody>\n",
       "</table>\n",
       "</div>"
      ],
      "text/plain": [
       "    Steam        ER       S_C       O_C\n",
       "O2                                     \n",
       "50    500  0.038631  0.574960  0.046202\n",
       "50   1000  0.038631  1.149921  0.046202\n",
       "50   1500  0.038631  1.724881  0.046202\n",
       "50   2000  0.038631  2.299842  0.046202\n",
       "50   2500  0.038631  2.874802  0.046202"
      ]
     },
     "execution_count": 24,
     "metadata": {},
     "output_type": "execute_result"
    }
   ],
   "source": [
    "df_O2.head()"
   ]
  },
  {
   "cell_type": "code",
   "execution_count": 25,
   "metadata": {
    "slideshow": {
     "slide_type": "subslide"
    }
   },
   "outputs": [
    {
     "data": {
      "text/html": [
       "<div>\n",
       "<style scoped>\n",
       "    .dataframe tbody tr th:only-of-type {\n",
       "        vertical-align: middle;\n",
       "    }\n",
       "\n",
       "    .dataframe tbody tr th {\n",
       "        vertical-align: top;\n",
       "    }\n",
       "\n",
       "    .dataframe thead th {\n",
       "        text-align: right;\n",
       "    }\n",
       "</style>\n",
       "<table border=\"1\" class=\"dataframe\">\n",
       "  <thead>\n",
       "    <tr style=\"text-align: right;\">\n",
       "      <th></th>\n",
       "      <th>Steam</th>\n",
       "      <th>ER</th>\n",
       "      <th>S_C</th>\n",
       "      <th>O_C</th>\n",
       "    </tr>\n",
       "    <tr>\n",
       "      <th>O2</th>\n",
       "      <th></th>\n",
       "      <th></th>\n",
       "      <th></th>\n",
       "      <th></th>\n",
       "    </tr>\n",
       "  </thead>\n",
       "  <tbody>\n",
       "    <tr>\n",
       "      <th>400</th>\n",
       "      <td>1000</td>\n",
       "      <td>0.309047</td>\n",
       "      <td>1.149921</td>\n",
       "      <td>0.369617</td>\n",
       "    </tr>\n",
       "    <tr>\n",
       "      <th>400</th>\n",
       "      <td>1500</td>\n",
       "      <td>0.309047</td>\n",
       "      <td>1.724881</td>\n",
       "      <td>0.369617</td>\n",
       "    </tr>\n",
       "    <tr>\n",
       "      <th>400</th>\n",
       "      <td>2000</td>\n",
       "      <td>0.309047</td>\n",
       "      <td>2.299842</td>\n",
       "      <td>0.369617</td>\n",
       "    </tr>\n",
       "    <tr>\n",
       "      <th>400</th>\n",
       "      <td>2500</td>\n",
       "      <td>0.309047</td>\n",
       "      <td>2.874802</td>\n",
       "      <td>0.369617</td>\n",
       "    </tr>\n",
       "    <tr>\n",
       "      <th>400</th>\n",
       "      <td>3000</td>\n",
       "      <td>0.309047</td>\n",
       "      <td>3.449763</td>\n",
       "      <td>0.369617</td>\n",
       "    </tr>\n",
       "  </tbody>\n",
       "</table>\n",
       "</div>"
      ],
      "text/plain": [
       "     Steam        ER       S_C       O_C\n",
       "O2                                      \n",
       "400   1000  0.309047  1.149921  0.369617\n",
       "400   1500  0.309047  1.724881  0.369617\n",
       "400   2000  0.309047  2.299842  0.369617\n",
       "400   2500  0.309047  2.874802  0.369617\n",
       "400   3000  0.309047  3.449763  0.369617"
      ]
     },
     "execution_count": 25,
     "metadata": {},
     "output_type": "execute_result"
    }
   ],
   "source": [
    "df_O2.tail()"
   ]
  },
  {
   "cell_type": "markdown",
   "metadata": {
    "slideshow": {
     "slide_type": "slide"
    }
   },
   "source": [
    "Select ER, S_C and O_C at Steam equal 1000"
   ]
  },
  {
   "cell_type": "code",
   "execution_count": 26,
   "metadata": {
    "slideshow": {
     "slide_type": "subslide"
    }
   },
   "outputs": [],
   "source": [
    "df_O2_Steam1000 = df_O2[df_O2['Steam'] == 1000]"
   ]
  },
  {
   "cell_type": "code",
   "execution_count": 27,
   "metadata": {
    "slideshow": {
     "slide_type": "subslide"
    }
   },
   "outputs": [
    {
     "data": {
      "text/html": [
       "<div>\n",
       "<style scoped>\n",
       "    .dataframe tbody tr th:only-of-type {\n",
       "        vertical-align: middle;\n",
       "    }\n",
       "\n",
       "    .dataframe tbody tr th {\n",
       "        vertical-align: top;\n",
       "    }\n",
       "\n",
       "    .dataframe thead th {\n",
       "        text-align: right;\n",
       "    }\n",
       "</style>\n",
       "<table border=\"1\" class=\"dataframe\">\n",
       "  <thead>\n",
       "    <tr style=\"text-align: right;\">\n",
       "      <th></th>\n",
       "      <th>Steam</th>\n",
       "      <th>ER</th>\n",
       "      <th>S_C</th>\n",
       "      <th>O_C</th>\n",
       "    </tr>\n",
       "    <tr>\n",
       "      <th>O2</th>\n",
       "      <th></th>\n",
       "      <th></th>\n",
       "      <th></th>\n",
       "      <th></th>\n",
       "    </tr>\n",
       "  </thead>\n",
       "  <tbody>\n",
       "    <tr>\n",
       "      <th>50</th>\n",
       "      <td>1000</td>\n",
       "      <td>0.038631</td>\n",
       "      <td>1.149921</td>\n",
       "      <td>0.046202</td>\n",
       "    </tr>\n",
       "    <tr>\n",
       "      <th>100</th>\n",
       "      <td>1000</td>\n",
       "      <td>0.077262</td>\n",
       "      <td>1.149921</td>\n",
       "      <td>0.092404</td>\n",
       "    </tr>\n",
       "    <tr>\n",
       "      <th>150</th>\n",
       "      <td>1000</td>\n",
       "      <td>0.115893</td>\n",
       "      <td>1.149921</td>\n",
       "      <td>0.138607</td>\n",
       "    </tr>\n",
       "    <tr>\n",
       "      <th>200</th>\n",
       "      <td>1000</td>\n",
       "      <td>0.154524</td>\n",
       "      <td>1.149921</td>\n",
       "      <td>0.184809</td>\n",
       "    </tr>\n",
       "    <tr>\n",
       "      <th>250</th>\n",
       "      <td>1000</td>\n",
       "      <td>0.193155</td>\n",
       "      <td>1.149921</td>\n",
       "      <td>0.231011</td>\n",
       "    </tr>\n",
       "    <tr>\n",
       "      <th>300</th>\n",
       "      <td>1000</td>\n",
       "      <td>0.231786</td>\n",
       "      <td>1.149921</td>\n",
       "      <td>0.277213</td>\n",
       "    </tr>\n",
       "    <tr>\n",
       "      <th>350</th>\n",
       "      <td>1000</td>\n",
       "      <td>0.270416</td>\n",
       "      <td>1.149921</td>\n",
       "      <td>0.323415</td>\n",
       "    </tr>\n",
       "    <tr>\n",
       "      <th>400</th>\n",
       "      <td>1000</td>\n",
       "      <td>0.309047</td>\n",
       "      <td>1.149921</td>\n",
       "      <td>0.369617</td>\n",
       "    </tr>\n",
       "  </tbody>\n",
       "</table>\n",
       "</div>"
      ],
      "text/plain": [
       "     Steam        ER       S_C       O_C\n",
       "O2                                      \n",
       "50    1000  0.038631  1.149921  0.046202\n",
       "100   1000  0.077262  1.149921  0.092404\n",
       "150   1000  0.115893  1.149921  0.138607\n",
       "200   1000  0.154524  1.149921  0.184809\n",
       "250   1000  0.193155  1.149921  0.231011\n",
       "300   1000  0.231786  1.149921  0.277213\n",
       "350   1000  0.270416  1.149921  0.323415\n",
       "400   1000  0.309047  1.149921  0.369617"
      ]
     },
     "execution_count": 27,
     "metadata": {},
     "output_type": "execute_result"
    }
   ],
   "source": [
    "df_O2_Steam1000"
   ]
  },
  {
   "cell_type": "code",
   "execution_count": 28,
   "metadata": {
    "slideshow": {
     "slide_type": "slide"
    }
   },
   "outputs": [],
   "source": [
    "df_p1000 = df_O2_Steam1000[['ER','S_C','O_C']]"
   ]
  },
  {
   "cell_type": "code",
   "execution_count": 29,
   "metadata": {
    "slideshow": {
     "slide_type": "subslide"
    }
   },
   "outputs": [
    {
     "data": {
      "text/html": [
       "<div>\n",
       "<style scoped>\n",
       "    .dataframe tbody tr th:only-of-type {\n",
       "        vertical-align: middle;\n",
       "    }\n",
       "\n",
       "    .dataframe tbody tr th {\n",
       "        vertical-align: top;\n",
       "    }\n",
       "\n",
       "    .dataframe thead th {\n",
       "        text-align: right;\n",
       "    }\n",
       "</style>\n",
       "<table border=\"1\" class=\"dataframe\">\n",
       "  <thead>\n",
       "    <tr style=\"text-align: right;\">\n",
       "      <th></th>\n",
       "      <th>ER</th>\n",
       "      <th>S_C</th>\n",
       "      <th>O_C</th>\n",
       "    </tr>\n",
       "    <tr>\n",
       "      <th>O2</th>\n",
       "      <th></th>\n",
       "      <th></th>\n",
       "      <th></th>\n",
       "    </tr>\n",
       "  </thead>\n",
       "  <tbody>\n",
       "    <tr>\n",
       "      <th>50</th>\n",
       "      <td>0.038631</td>\n",
       "      <td>1.149921</td>\n",
       "      <td>0.046202</td>\n",
       "    </tr>\n",
       "    <tr>\n",
       "      <th>100</th>\n",
       "      <td>0.077262</td>\n",
       "      <td>1.149921</td>\n",
       "      <td>0.092404</td>\n",
       "    </tr>\n",
       "    <tr>\n",
       "      <th>150</th>\n",
       "      <td>0.115893</td>\n",
       "      <td>1.149921</td>\n",
       "      <td>0.138607</td>\n",
       "    </tr>\n",
       "    <tr>\n",
       "      <th>200</th>\n",
       "      <td>0.154524</td>\n",
       "      <td>1.149921</td>\n",
       "      <td>0.184809</td>\n",
       "    </tr>\n",
       "    <tr>\n",
       "      <th>250</th>\n",
       "      <td>0.193155</td>\n",
       "      <td>1.149921</td>\n",
       "      <td>0.231011</td>\n",
       "    </tr>\n",
       "    <tr>\n",
       "      <th>300</th>\n",
       "      <td>0.231786</td>\n",
       "      <td>1.149921</td>\n",
       "      <td>0.277213</td>\n",
       "    </tr>\n",
       "    <tr>\n",
       "      <th>350</th>\n",
       "      <td>0.270416</td>\n",
       "      <td>1.149921</td>\n",
       "      <td>0.323415</td>\n",
       "    </tr>\n",
       "    <tr>\n",
       "      <th>400</th>\n",
       "      <td>0.309047</td>\n",
       "      <td>1.149921</td>\n",
       "      <td>0.369617</td>\n",
       "    </tr>\n",
       "  </tbody>\n",
       "</table>\n",
       "</div>"
      ],
      "text/plain": [
       "           ER       S_C       O_C\n",
       "O2                               \n",
       "50   0.038631  1.149921  0.046202\n",
       "100  0.077262  1.149921  0.092404\n",
       "150  0.115893  1.149921  0.138607\n",
       "200  0.154524  1.149921  0.184809\n",
       "250  0.193155  1.149921  0.231011\n",
       "300  0.231786  1.149921  0.277213\n",
       "350  0.270416  1.149921  0.323415\n",
       "400  0.309047  1.149921  0.369617"
      ]
     },
     "execution_count": 29,
     "metadata": {},
     "output_type": "execute_result"
    }
   ],
   "source": [
    "df_p1000"
   ]
  },
  {
   "cell_type": "code",
   "execution_count": 30,
   "metadata": {
    "slideshow": {
     "slide_type": "slide"
    }
   },
   "outputs": [
    {
     "data": {
      "text/plain": [
       "<AxesSubplot:xlabel='O2'>"
      ]
     },
     "execution_count": 30,
     "metadata": {},
     "output_type": "execute_result"
    },
    {
     "data": {
      "image/png": "[encoded data removed]",
      "text/plain": [
       "<Figure size 432x288 with 1 Axes>"
      ]
     },
     "metadata": {
      "needs_background": "light"
     },
     "output_type": "display_data"
    }
   ],
   "source": [
    "df_p1000.plot.line()"
   ]
  },
  {
   "cell_type": "code",
   "execution_count": 31,
   "metadata": {
    "slideshow": {
     "slide_type": "slide"
    }
   },
   "outputs": [
    {
     "data": {
      "text/plain": [
       "<AxesSubplot:xlabel='O2'>"
      ]
     },
     "execution_count": 31,
     "metadata": {},
     "output_type": "execute_result"
    },
    {
     "data": {
      "image/png": "[encoded data removed]",
      "text/plain": [
       "<Figure size 432x288 with 1 Axes>"
      ]
     },
     "metadata": {
      "needs_background": "light"
     },
     "output_type": "display_data"
    }
   ],
   "source": [
    "df_p1000.plot.bar()"
   ]
  },
  {
   "cell_type": "markdown",
   "metadata": {
    "slideshow": {
     "slide_type": "slide"
    }
   },
   "source": [
    "Select ER, S_C and O_C at Steam equal 2500"
   ]
  },
  {
   "cell_type": "code",
   "execution_count": 32,
   "metadata": {
    "slideshow": {
     "slide_type": "subslide"
    }
   },
   "outputs": [],
   "source": [
    "df_O2_Steam2500 = df_O2[df_O2['Steam'] == 2500]"
   ]
  },
  {
   "cell_type": "code",
   "execution_count": 33,
   "metadata": {
    "slideshow": {
     "slide_type": "subslide"
    }
   },
   "outputs": [],
   "source": [
    "df_p2500 = df_O2_Steam2500[['ER','S_C','O_C']]"
   ]
  },
  {
   "cell_type": "code",
   "execution_count": 34,
   "metadata": {
    "slideshow": {
     "slide_type": "subslide"
    }
   },
   "outputs": [
    {
     "data": {
      "text/html": [
       "<div>\n",
       "<style scoped>\n",
       "    .dataframe tbody tr th:only-of-type {\n",
       "        vertical-align: middle;\n",
       "    }\n",
       "\n",
       "    .dataframe tbody tr th {\n",
       "        vertical-align: top;\n",
       "    }\n",
       "\n",
       "    .dataframe thead th {\n",
       "        text-align: right;\n",
       "    }\n",
       "</style>\n",
       "<table border=\"1\" class=\"dataframe\">\n",
       "  <thead>\n",
       "    <tr style=\"text-align: right;\">\n",
       "      <th></th>\n",
       "      <th>ER</th>\n",
       "      <th>S_C</th>\n",
       "      <th>O_C</th>\n",
       "    </tr>\n",
       "    <tr>\n",
       "      <th>O2</th>\n",
       "      <th></th>\n",
       "      <th></th>\n",
       "      <th></th>\n",
       "    </tr>\n",
       "  </thead>\n",
       "  <tbody>\n",
       "    <tr>\n",
       "      <th>50</th>\n",
       "      <td>0.038631</td>\n",
       "      <td>2.874802</td>\n",
       "      <td>0.046202</td>\n",
       "    </tr>\n",
       "    <tr>\n",
       "      <th>100</th>\n",
       "      <td>0.077262</td>\n",
       "      <td>2.874802</td>\n",
       "      <td>0.092404</td>\n",
       "    </tr>\n",
       "    <tr>\n",
       "      <th>150</th>\n",
       "      <td>0.115893</td>\n",
       "      <td>2.874802</td>\n",
       "      <td>0.138607</td>\n",
       "    </tr>\n",
       "    <tr>\n",
       "      <th>200</th>\n",
       "      <td>0.154524</td>\n",
       "      <td>2.874802</td>\n",
       "      <td>0.184809</td>\n",
       "    </tr>\n",
       "    <tr>\n",
       "      <th>250</th>\n",
       "      <td>0.193155</td>\n",
       "      <td>2.874802</td>\n",
       "      <td>0.231011</td>\n",
       "    </tr>\n",
       "    <tr>\n",
       "      <th>300</th>\n",
       "      <td>0.231786</td>\n",
       "      <td>2.874802</td>\n",
       "      <td>0.277213</td>\n",
       "    </tr>\n",
       "    <tr>\n",
       "      <th>350</th>\n",
       "      <td>0.270416</td>\n",
       "      <td>2.874802</td>\n",
       "      <td>0.323415</td>\n",
       "    </tr>\n",
       "    <tr>\n",
       "      <th>400</th>\n",
       "      <td>0.309047</td>\n",
       "      <td>2.874802</td>\n",
       "      <td>0.369617</td>\n",
       "    </tr>\n",
       "  </tbody>\n",
       "</table>\n",
       "</div>"
      ],
      "text/plain": [
       "           ER       S_C       O_C\n",
       "O2                               \n",
       "50   0.038631  2.874802  0.046202\n",
       "100  0.077262  2.874802  0.092404\n",
       "150  0.115893  2.874802  0.138607\n",
       "200  0.154524  2.874802  0.184809\n",
       "250  0.193155  2.874802  0.231011\n",
       "300  0.231786  2.874802  0.277213\n",
       "350  0.270416  2.874802  0.323415\n",
       "400  0.309047  2.874802  0.369617"
      ]
     },
     "execution_count": 34,
     "metadata": {},
     "output_type": "execute_result"
    }
   ],
   "source": [
    "df_p2500"
   ]
  },
  {
   "cell_type": "code",
   "execution_count": 35,
   "metadata": {
    "slideshow": {
     "slide_type": "slide"
    }
   },
   "outputs": [
    {
     "data": {
      "text/plain": [
       "<AxesSubplot:xlabel='O2'>"
      ]
     },
     "execution_count": 35,
     "metadata": {},
     "output_type": "execute_result"
    },
    {
     "data": {
      "image/png": "[encoded data removed]",
      "text/plain": [
       "<Figure size 432x288 with 1 Axes>"
      ]
     },
     "metadata": {
      "needs_background": "light"
     },
     "output_type": "display_data"
    }
   ],
   "source": [
    "df_p2500.plot.line()"
   ]
  },
  {
   "cell_type": "markdown",
   "metadata": {
    "slideshow": {
     "slide_type": "slide"
    }
   },
   "source": [
    "Visualize the two charts in thesame plot"
   ]
  },
  {
   "cell_type": "code",
   "execution_count": 36,
   "metadata": {
    "slideshow": {
     "slide_type": "subslide"
    }
   },
   "outputs": [
    {
     "data": {
      "text/plain": [
       "<matplotlib.legend.Legend at 0x17f4b9a8460>"
      ]
     },
     "execution_count": 36,
     "metadata": {},
     "output_type": "execute_result"
    },
    {
     "data": {
      "image/png": "[encoded data removed]",
      "text/plain": [
       "<Figure size 432x288 with 2 Axes>"
      ]
     },
     "metadata": {
      "needs_background": "light"
     },
     "output_type": "display_data"
    }
   ],
   "source": [
    "ax1 = plt.subplot(2,2,1)\n",
    "plt.plot(df_p1000)\n",
    "plt.legend('ER,S_C,O_C')\n",
    "ax4 = plt.subplot(2,2,4)\n",
    "plt.plot(df_p2500)\n",
    "plt.legend('ER,S_C,O_C')"
   ]
  },
  {
   "cell_type": "markdown",
   "metadata": {
    "slideshow": {
     "slide_type": "slide"
    }
   },
   "source": [
    "Alternative visualization Using subplots"
   ]
  },
  {
   "cell_type": "code",
   "execution_count": 37,
   "metadata": {
    "slideshow": {
     "slide_type": "subslide"
    }
   },
   "outputs": [
    {
     "data": {
      "text/plain": [
       "<matplotlib.legend.Legend at 0x17f4ba41b50>"
      ]
     },
     "execution_count": 37,
     "metadata": {},
     "output_type": "execute_result"
    },
    {
     "data": {
      "image/png": "[encoded data removed]",
      "text/plain": [
       "<Figure size 432x288 with 4 Axes>"
      ]
     },
     "metadata": {
      "needs_background": "light"
     },
     "output_type": "display_data"
    }
   ],
   "source": [
    "fig, ax = plt.subplots(2,2)\n",
    "ax[0,0].plot(df_p1000)\n",
    "ax[1,1].plot(df_p2500)\n",
    "fig.legend(('ER','S-C','O-C'))"
   ]
  },
  {
   "cell_type": "markdown",
   "metadata": {
    "slideshow": {
     "slide_type": "slide"
    }
   },
   "source": [
    "Visualize on a single plot"
   ]
  },
  {
   "cell_type": "code",
   "execution_count": 38,
   "metadata": {
    "slideshow": {
     "slide_type": "subslide"
    }
   },
   "outputs": [
    {
     "data": {
      "text/plain": [
       "<matplotlib.legend.Legend at 0x17f4bb9f640>"
      ]
     },
     "execution_count": 38,
     "metadata": {},
     "output_type": "execute_result"
    },
    {
     "data": {
      "image/png": "[encoded data removed]",
      "text/plain": [
       "<Figure size 432x288 with 1 Axes>"
      ]
     },
     "metadata": {
      "needs_background": "light"
     },
     "output_type": "display_data"
    }
   ],
   "source": [
    "fig, ax = plt.subplots()\n",
    "ax.plot(df_p1000)\n",
    "ax.plot(df_p2500)\n",
    "ax.set_xlabel('Oxygen (m$^3$)')\n",
    "ax.set_ylabel('Molar Ratio (-)')\n",
    "ax.set_title('Gasifier Equivalent Ratio')\n",
    "ax.legend(('ER 1.0','S/C 1.0','O/C 1.0','ER 2.5','S/C 2.5','O/C 2.5'))"
   ]
  },
  {
   "cell_type": "markdown",
   "metadata": {
    "slideshow": {
     "slide_type": "slide"
    }
   },
   "source": [
    "**Question**   \n",
    "Visualize ER and ER2 only"
   ]
  },
  {
   "cell_type": "code",
   "execution_count": null,
   "metadata": {},
   "outputs": [],
   "source": []
  }
 ],
 "metadata": {
  "celltoolbar": "Slideshow",
  "kernelspec": {
   "display_name": "Python 3",
   "language": "python",
   "name": "python3"
  },
  "language_info": {
   "codemirror_mode": {
    "name": "ipython",
    "version": 3
   },
   "file_extension": ".py",
   "mimetype": "text/x-python",
   "name": "python",
   "nbconvert_exporter": "python",
   "pygments_lexer": "ipython3",
   "version": "3.8.5"
  }
 },
 "nbformat": 4,
 "nbformat_minor": 4
}
