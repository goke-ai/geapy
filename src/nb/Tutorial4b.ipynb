{
 "cells": [
  {
   "cell_type": "code",
   "execution_count": 1,
   "metadata": {},
   "outputs": [],
   "source": [
    "import numpy as np\n",
    "import pandas as pd\n",
    "import xlrd\n",
    "import matplotlib.pyplot as plt\n",
    "import random\n",
    "from sklearn.preprocessing import StandardScaler\n",
    "from sklearn.decomposition import PCA\n",
    "from sklearn.model_selection import train_test_split\n",
    "from sklearn.linear_model import LogisticRegression"
   ]
  },
  {
   "cell_type": "code",
   "execution_count": 2,
   "metadata": {},
   "outputs": [],
   "source": [
    "df = pd.read_excel(\"Water Data's Ariani for PCA.xlsx\")"
   ]
  },
  {
   "cell_type": "code",
   "execution_count": 3,
   "metadata": {},
   "outputs": [],
   "source": [
    "df2 = df.copy()"
   ]
  },
  {
   "cell_type": "code",
   "execution_count": 4,
   "metadata": {},
   "outputs": [
    {
     "data": {
      "text/plain": [
       "0.0125"
      ]
     },
     "execution_count": 4,
     "metadata": {},
     "output_type": "execute_result"
    }
   ],
   "source": [
    "p = np.linspace(0.01,2*0.01, 5)\n",
    "z = random.choice(p[1:-1])\n",
    "z"
   ]
  },
  {
   "cell_type": "code",
   "execution_count": 5,
   "metadata": {},
   "outputs": [],
   "source": [
    "for l,c in df2.items():    \n",
    "    for i in c.index:\n",
    "        s = str(c[i])\n",
    "        if s.isalpha():\n",
    "            c.iat[i] = np.nan            \n",
    "        elif '<' in s:\n",
    "            x = s.replace('<','')\n",
    "            y = float(x)\n",
    "            p = np.linspace(0, y, 5)\n",
    "            z = random.choice(p[1:-1])\n",
    "            # print(f\"{l}->{i}: {c[i]} {x} -> {y} -> {z}\")\n",
    "            c.iat[i] = z\n",
    "        elif '>' in s:\n",
    "            x = s.replace('>','')\n",
    "            y = float(x)\n",
    "            p = np.linspace(y, 2*y, 5)\n",
    "            z = random.choice(p[1:-1])\n",
    "            # print(f\"{l}->{i}: {c[i]} {x} -> {y} -> {z}\")\n",
    "            c.iat[i] = z"
   ]
  },
  {
   "cell_type": "code",
   "execution_count": 6,
   "metadata": {},
   "outputs": [
    {
     "data": {
      "text/html": [
       "<div>\n",
       "<style scoped>\n",
       "    .dataframe tbody tr th:only-of-type {\n",
       "        vertical-align: middle;\n",
       "    }\n",
       "\n",
       "    .dataframe tbody tr th {\n",
       "        vertical-align: top;\n",
       "    }\n",
       "\n",
       "    .dataframe thead th {\n",
       "        text-align: right;\n",
       "    }\n",
       "</style>\n",
       "<table border=\"1\" class=\"dataframe\">\n",
       "  <thead>\n",
       "    <tr style=\"text-align: right;\">\n",
       "      <th></th>\n",
       "      <th>SMP-DAT</th>\n",
       "      <th>DO (% Sat)</th>\n",
       "      <th>DO (mg/l)</th>\n",
       "      <th>BOD (mg/l)</th>\n",
       "      <th>COD (mg/l)</th>\n",
       "      <th>SS (mg/l)</th>\n",
       "      <th>pH (unit)</th>\n",
       "      <th>NH3-NL (mg/l)</th>\n",
       "      <th>TEMP (Deg C)</th>\n",
       "      <th>COND (uS)</th>\n",
       "      <th>...</th>\n",
       "      <th>TUR (NTU)</th>\n",
       "      <th>DS (mg/l)</th>\n",
       "      <th>TS (mg/l)</th>\n",
       "      <th>NO3 (mg/l)</th>\n",
       "      <th>PO4 (mg/l)</th>\n",
       "      <th>OG (mg/l)</th>\n",
       "      <th>MBAS (mg/l)</th>\n",
       "      <th>E-coli (cfu/100ml)</th>\n",
       "      <th>Coliform (cfu/100ml)</th>\n",
       "      <th>WQI</th>\n",
       "    </tr>\n",
       "  </thead>\n",
       "  <tbody>\n",
       "    <tr>\n",
       "      <th>0</th>\n",
       "      <td>2000-01-23 00:00:00</td>\n",
       "      <td>40.7</td>\n",
       "      <td>3.39</td>\n",
       "      <td>1</td>\n",
       "      <td>19</td>\n",
       "      <td>26</td>\n",
       "      <td>5.79</td>\n",
       "      <td>0.08</td>\n",
       "      <td>24.78</td>\n",
       "      <td>53.7</td>\n",
       "      <td>...</td>\n",
       "      <td>74.0</td>\n",
       "      <td>75.1</td>\n",
       "      <td>101.1</td>\n",
       "      <td>0.89</td>\n",
       "      <td>0.01</td>\n",
       "      <td>0.75</td>\n",
       "      <td>0.025</td>\n",
       "      <td>190</td>\n",
       "      <td>2000</td>\n",
       "      <td>64.40</td>\n",
       "    </tr>\n",
       "    <tr>\n",
       "      <th>1</th>\n",
       "      <td>2000-02-27 00:00:00</td>\n",
       "      <td>58.1</td>\n",
       "      <td>4.79</td>\n",
       "      <td>6</td>\n",
       "      <td>20</td>\n",
       "      <td>14</td>\n",
       "      <td>5.63</td>\n",
       "      <td>0.0025</td>\n",
       "      <td>25.25</td>\n",
       "      <td>50.7</td>\n",
       "      <td>...</td>\n",
       "      <td>54.0</td>\n",
       "      <td>40.0</td>\n",
       "      <td>54.0</td>\n",
       "      <td>0.88</td>\n",
       "      <td>0.03</td>\n",
       "      <td>2</td>\n",
       "      <td>0.025</td>\n",
       "      <td>3000</td>\n",
       "      <td>6000</td>\n",
       "      <td>59.62</td>\n",
       "    </tr>\n",
       "    <tr>\n",
       "      <th>2</th>\n",
       "      <td>2000-03-27 00:00:00</td>\n",
       "      <td>65.1</td>\n",
       "      <td>5.34</td>\n",
       "      <td>1</td>\n",
       "      <td>19</td>\n",
       "      <td>23</td>\n",
       "      <td>5.76</td>\n",
       "      <td>0.0075</td>\n",
       "      <td>25.51</td>\n",
       "      <td>53.7</td>\n",
       "      <td>...</td>\n",
       "      <td>78.0</td>\n",
       "      <td>39.0</td>\n",
       "      <td>86.0</td>\n",
       "      <td>0.62</td>\n",
       "      <td>0.005</td>\n",
       "      <td>0.5</td>\n",
       "      <td>0.0375</td>\n",
       "      <td>1500</td>\n",
       "      <td>3900</td>\n",
       "      <td>65.00</td>\n",
       "    </tr>\n",
       "    <tr>\n",
       "      <th>3</th>\n",
       "      <td>2000-04-26 00:00:00</td>\n",
       "      <td>68.1</td>\n",
       "      <td>5.58</td>\n",
       "      <td>7</td>\n",
       "      <td>19</td>\n",
       "      <td>35</td>\n",
       "      <td>5.66</td>\n",
       "      <td>0.005</td>\n",
       "      <td>25.66</td>\n",
       "      <td>51.9</td>\n",
       "      <td>...</td>\n",
       "      <td>140.0</td>\n",
       "      <td>28.0</td>\n",
       "      <td>63.0</td>\n",
       "      <td>0.68</td>\n",
       "      <td>0.005</td>\n",
       "      <td>0.5</td>\n",
       "      <td>0.0125</td>\n",
       "      <td>6000</td>\n",
       "      <td>9000</td>\n",
       "      <td>40.89</td>\n",
       "    </tr>\n",
       "    <tr>\n",
       "      <th>4</th>\n",
       "      <td>2000-05-30 00:00:00</td>\n",
       "      <td>55.1</td>\n",
       "      <td>4.46</td>\n",
       "      <td>2</td>\n",
       "      <td>19</td>\n",
       "      <td>43</td>\n",
       "      <td>6.09</td>\n",
       "      <td>0.3</td>\n",
       "      <td>26.08</td>\n",
       "      <td>61.5</td>\n",
       "      <td>...</td>\n",
       "      <td>89.0</td>\n",
       "      <td>23.0</td>\n",
       "      <td>66.0</td>\n",
       "      <td>0.09</td>\n",
       "      <td>0.005</td>\n",
       "      <td>0.75</td>\n",
       "      <td>0.025</td>\n",
       "      <td>4300</td>\n",
       "      <td>5500</td>\n",
       "      <td>47.22</td>\n",
       "    </tr>\n",
       "    <tr>\n",
       "      <th>...</th>\n",
       "      <td>...</td>\n",
       "      <td>...</td>\n",
       "      <td>...</td>\n",
       "      <td>...</td>\n",
       "      <td>...</td>\n",
       "      <td>...</td>\n",
       "      <td>...</td>\n",
       "      <td>...</td>\n",
       "      <td>...</td>\n",
       "      <td>...</td>\n",
       "      <td>...</td>\n",
       "      <td>...</td>\n",
       "      <td>...</td>\n",
       "      <td>...</td>\n",
       "      <td>...</td>\n",
       "      <td>...</td>\n",
       "      <td>...</td>\n",
       "      <td>...</td>\n",
       "      <td>...</td>\n",
       "      <td>...</td>\n",
       "      <td>...</td>\n",
       "    </tr>\n",
       "    <tr>\n",
       "      <th>214</th>\n",
       "      <td>2018-05-02 15:12:00</td>\n",
       "      <td>88.296</td>\n",
       "      <td>6.902</td>\n",
       "      <td>4</td>\n",
       "      <td>14</td>\n",
       "      <td>118</td>\n",
       "      <td>6.055</td>\n",
       "      <td>0.11</td>\n",
       "      <td>28.07</td>\n",
       "      <td>76.727</td>\n",
       "      <td>...</td>\n",
       "      <td>NaN</td>\n",
       "      <td>NaN</td>\n",
       "      <td>NaN</td>\n",
       "      <td>5.26</td>\n",
       "      <td>0.0025</td>\n",
       "      <td>NaN</td>\n",
       "      <td>NaN</td>\n",
       "      <td>600</td>\n",
       "      <td>39000</td>\n",
       "      <td>48.03</td>\n",
       "    </tr>\n",
       "    <tr>\n",
       "      <th>215</th>\n",
       "      <td>2018-07-03 11:06:00</td>\n",
       "      <td>94.002</td>\n",
       "      <td>7.719</td>\n",
       "      <td>4</td>\n",
       "      <td>15</td>\n",
       "      <td>36</td>\n",
       "      <td>6.594</td>\n",
       "      <td>0.07</td>\n",
       "      <td>25.334</td>\n",
       "      <td>67.954</td>\n",
       "      <td>...</td>\n",
       "      <td>NaN</td>\n",
       "      <td>NaN</td>\n",
       "      <td>NaN</td>\n",
       "      <td>3.65</td>\n",
       "      <td>NaN</td>\n",
       "      <td>NaN</td>\n",
       "      <td>NaN</td>\n",
       "      <td>1000</td>\n",
       "      <td>34000</td>\n",
       "      <td>47.50</td>\n",
       "    </tr>\n",
       "    <tr>\n",
       "      <th>216</th>\n",
       "      <td>2018-09-03 09:37:00</td>\n",
       "      <td>82.502</td>\n",
       "      <td>6.771</td>\n",
       "      <td>4</td>\n",
       "      <td>14</td>\n",
       "      <td>29</td>\n",
       "      <td>6.547</td>\n",
       "      <td>0.14</td>\n",
       "      <td>25.364</td>\n",
       "      <td>81.267</td>\n",
       "      <td>...</td>\n",
       "      <td>NaN</td>\n",
       "      <td>NaN</td>\n",
       "      <td>NaN</td>\n",
       "      <td>2.59</td>\n",
       "      <td>0.0025</td>\n",
       "      <td>NaN</td>\n",
       "      <td>NaN</td>\n",
       "      <td>2600</td>\n",
       "      <td>51000</td>\n",
       "      <td>29.32</td>\n",
       "    </tr>\n",
       "    <tr>\n",
       "      <th>217</th>\n",
       "      <td>2018-11-02 08:54:00</td>\n",
       "      <td>89</td>\n",
       "      <td>7.329</td>\n",
       "      <td>7</td>\n",
       "      <td>21</td>\n",
       "      <td>19</td>\n",
       "      <td>6.548</td>\n",
       "      <td>0.1</td>\n",
       "      <td>25.18</td>\n",
       "      <td>81.481</td>\n",
       "      <td>...</td>\n",
       "      <td>NaN</td>\n",
       "      <td>NaN</td>\n",
       "      <td>NaN</td>\n",
       "      <td>4.82</td>\n",
       "      <td>0.0075</td>\n",
       "      <td>NaN</td>\n",
       "      <td>NaN</td>\n",
       "      <td>1200</td>\n",
       "      <td>50000</td>\n",
       "      <td>65.74</td>\n",
       "    </tr>\n",
       "    <tr>\n",
       "      <th>218</th>\n",
       "      <td>SMP-DAT</td>\n",
       "      <td>DO\\n% Sat</td>\n",
       "      <td>DO \\nmg/l</td>\n",
       "      <td>BOD\\nmg/l</td>\n",
       "      <td>COD\\nmg/l</td>\n",
       "      <td>SS\\nmg/l</td>\n",
       "      <td>NaN</td>\n",
       "      <td>NH3-N\\nmg/l</td>\n",
       "      <td>TEMP\\n °C</td>\n",
       "      <td>COND\\nmS/cm</td>\n",
       "      <td>...</td>\n",
       "      <td>NaN</td>\n",
       "      <td>NaN</td>\n",
       "      <td>NaN</td>\n",
       "      <td>NO3\\nmg/l</td>\n",
       "      <td>PO4\\nmg/l</td>\n",
       "      <td>NaN</td>\n",
       "      <td>NaN</td>\n",
       "      <td>E-coli\\ncfu/100ml</td>\n",
       "      <td>Total Coliform\\ncfu/100ml</td>\n",
       "      <td>NaN</td>\n",
       "    </tr>\n",
       "  </tbody>\n",
       "</table>\n",
       "<p>219 rows × 21 columns</p>\n",
       "</div>"
      ],
      "text/plain": [
       "                 SMP-DAT DO (% Sat)   DO (mg/l) BOD (mg/l) COD (mg/l)  \\\n",
       "0    2000-01-23 00:00:00        40.7       3.39          1         19   \n",
       "1    2000-02-27 00:00:00        58.1       4.79          6         20   \n",
       "2    2000-03-27 00:00:00        65.1       5.34          1         19   \n",
       "3    2000-04-26 00:00:00        68.1       5.58          7         19   \n",
       "4    2000-05-30 00:00:00        55.1       4.46          2         19   \n",
       "..                   ...         ...        ...        ...        ...   \n",
       "214  2018-05-02 15:12:00      88.296      6.902          4         14   \n",
       "215  2018-07-03 11:06:00      94.002      7.719          4         15   \n",
       "216  2018-09-03 09:37:00      82.502      6.771          4         14   \n",
       "217  2018-11-02 08:54:00          89      7.329          7         21   \n",
       "218              SMP-DAT   DO\\n% Sat  DO \\nmg/l  BOD\\nmg/l  COD\\nmg/l   \n",
       "\n",
       "    SS (mg/l) pH (unit) NH3-NL (mg/l) TEMP (Deg C)    COND (uS)  ...  \\\n",
       "0          26      5.79          0.08        24.78         53.7  ...   \n",
       "1          14      5.63        0.0025        25.25         50.7  ...   \n",
       "2          23      5.76        0.0075        25.51         53.7  ...   \n",
       "3          35      5.66         0.005        25.66         51.9  ...   \n",
       "4          43      6.09           0.3        26.08         61.5  ...   \n",
       "..        ...       ...           ...          ...          ...  ...   \n",
       "214       118     6.055          0.11        28.07       76.727  ...   \n",
       "215        36     6.594          0.07       25.334       67.954  ...   \n",
       "216        29     6.547          0.14       25.364       81.267  ...   \n",
       "217        19     6.548           0.1        25.18       81.481  ...   \n",
       "218  SS\\nmg/l       NaN   NH3-N\\nmg/l    TEMP\\n °C  COND\\nmS/cm  ...   \n",
       "\n",
       "     TUR (NTU)  DS (mg/l)  TS (mg/l)  NO3 (mg/l) PO4 (mg/l) OG (mg/l)  \\\n",
       "0         74.0       75.1      101.1        0.89       0.01      0.75   \n",
       "1         54.0       40.0       54.0        0.88       0.03         2   \n",
       "2         78.0       39.0       86.0        0.62      0.005       0.5   \n",
       "3        140.0       28.0       63.0        0.68      0.005       0.5   \n",
       "4         89.0       23.0       66.0        0.09      0.005      0.75   \n",
       "..         ...        ...        ...         ...        ...       ...   \n",
       "214        NaN        NaN        NaN        5.26     0.0025       NaN   \n",
       "215        NaN        NaN        NaN        3.65        NaN       NaN   \n",
       "216        NaN        NaN        NaN        2.59     0.0025       NaN   \n",
       "217        NaN        NaN        NaN        4.82     0.0075       NaN   \n",
       "218        NaN        NaN        NaN   NO3\\nmg/l  PO4\\nmg/l       NaN   \n",
       "\n",
       "    MBAS (mg/l) E-coli (cfu/100ml)       Coliform (cfu/100ml)    WQI  \n",
       "0         0.025                190                       2000  64.40  \n",
       "1         0.025               3000                       6000  59.62  \n",
       "2        0.0375               1500                       3900  65.00  \n",
       "3        0.0125               6000                       9000  40.89  \n",
       "4         0.025               4300                       5500  47.22  \n",
       "..          ...                ...                        ...    ...  \n",
       "214         NaN                600                      39000  48.03  \n",
       "215         NaN               1000                      34000  47.50  \n",
       "216         NaN               2600                      51000  29.32  \n",
       "217         NaN               1200                      50000  65.74  \n",
       "218         NaN  E-coli\\ncfu/100ml  Total Coliform\\ncfu/100ml    NaN  \n",
       "\n",
       "[219 rows x 21 columns]"
      ]
     },
     "execution_count": 6,
     "metadata": {},
     "output_type": "execute_result"
    }
   ],
   "source": [
    "df2"
   ]
  },
  {
   "cell_type": "code",
   "execution_count": 7,
   "metadata": {},
   "outputs": [],
   "source": [
    "df3 = df2.dropna()"
   ]
  },
  {
   "cell_type": "code",
   "execution_count": 8,
   "metadata": {},
   "outputs": [
    {
     "data": {
      "text/plain": [
       "(207, 21)"
      ]
     },
     "execution_count": 8,
     "metadata": {},
     "output_type": "execute_result"
    }
   ],
   "source": [
    "df3.shape"
   ]
  },
  {
   "cell_type": "code",
   "execution_count": 9,
   "metadata": {},
   "outputs": [
    {
     "data": {
      "text/plain": [
       "Index(['SMP-DAT', 'DO (% Sat) ', 'DO (mg/l)', 'BOD (mg/l)', 'COD (mg/l)',\n",
       "       'SS (mg/l)', 'pH (unit)', 'NH3-NL (mg/l)', 'TEMP (Deg C)', 'COND (uS)',\n",
       "       'SAL (ppt)', 'TUR (NTU)', 'DS (mg/l)', 'TS (mg/l)', 'NO3 (mg/l)',\n",
       "       'PO4 (mg/l)', 'OG (mg/l)', 'MBAS (mg/l)', 'E-coli (cfu/100ml)',\n",
       "       'Coliform (cfu/100ml)', 'WQI'],\n",
       "      dtype='object')"
      ]
     },
     "execution_count": 9,
     "metadata": {},
     "output_type": "execute_result"
    }
   ],
   "source": [
    "df3.columns"
   ]
  },
  {
   "cell_type": "code",
   "execution_count": 10,
   "metadata": {},
   "outputs": [],
   "source": [
    "columns = list(df3.columns)\n",
    "features = columns[1:-1]"
   ]
  },
  {
   "cell_type": "code",
   "execution_count": 11,
   "metadata": {},
   "outputs": [],
   "source": [
    "target = columns[-1]"
   ]
  },
  {
   "cell_type": "code",
   "execution_count": 12,
   "metadata": {},
   "outputs": [],
   "source": [
    "x_data = df3.loc[:, features]\n",
    "y_target = df3.loc[:,target]"
   ]
  },
  {
   "cell_type": "code",
   "execution_count": 13,
   "metadata": {},
   "outputs": [
    {
     "data": {
      "text/plain": [
       "((207, 19), (207,))"
      ]
     },
     "execution_count": 13,
     "metadata": {},
     "output_type": "execute_result"
    }
   ],
   "source": [
    "x_data.shape, y_target.shape"
   ]
  },
  {
   "cell_type": "code",
   "execution_count": 14,
   "metadata": {},
   "outputs": [],
   "source": [
    "y_target = y_target.round(decimals=-1)"
   ]
  },
  {
   "cell_type": "code",
   "execution_count": 15,
   "metadata": {},
   "outputs": [
    {
     "data": {
      "text/plain": [
       "((207, 19), (207,))"
      ]
     },
     "execution_count": 15,
     "metadata": {},
     "output_type": "execute_result"
    }
   ],
   "source": [
    "x_data.shape, y_target.shape"
   ]
  },
  {
   "cell_type": "code",
   "execution_count": 16,
   "metadata": {},
   "outputs": [],
   "source": [
    "x_data2 = StandardScaler().fit_transform(x_data)"
   ]
  },
  {
   "cell_type": "code",
   "execution_count": 17,
   "metadata": {},
   "outputs": [],
   "source": [
    "# split data into train and test\n",
    "train_data, test_data, train_lbl, test_lbl = train_test_split( x_data2, y_target, test_size=1/7.0, random_state=0)"
   ]
  },
  {
   "cell_type": "code",
   "execution_count": 18,
   "metadata": {},
   "outputs": [
    {
     "data": {
      "text/plain": [
       "array([[-0.70588423, -0.70660963, -0.87701416, ...,  0.14187781,\n",
       "        -0.157469  , -0.51314576],\n",
       "       [ 0.4170598 ,  0.42010615,  0.03297046, ..., -0.10077027,\n",
       "        -0.37132132,  0.4157835 ],\n",
       "       [-0.32924461, -0.32250198,  2.307932  , ...,  0.14187781,\n",
       "        -0.12182695,  1.14080146],\n",
       "       ...,\n",
       "       [-0.38504307, -0.2627519 ,  0.03297046, ..., -0.10077027,\n",
       "         0.76922438,  0.03816998],\n",
       "       [ 0.52168191,  0.57374921, -0.42202185, ...,  0.14187781,\n",
       "        -0.33567927, -0.24126403],\n",
       "       [ 0.52865672,  0.45424905,  0.94295508, ...,  6.65763886,\n",
       "        -0.37132132,  0.18921539]])"
      ]
     },
     "execution_count": 18,
     "metadata": {},
     "output_type": "execute_result"
    }
   ],
   "source": [
    "train_data"
   ]
  },
  {
   "cell_type": "code",
   "execution_count": 19,
   "metadata": {},
   "outputs": [
    {
     "data": {
      "text/plain": [
       "((177, 19), (30, 19))"
      ]
     },
     "execution_count": 19,
     "metadata": {},
     "output_type": "execute_result"
    }
   ],
   "source": [
    "train_data.shape, test_data.shape"
   ]
  },
  {
   "cell_type": "code",
   "execution_count": 20,
   "metadata": {},
   "outputs": [],
   "source": [
    "pca = PCA(0.95)"
   ]
  },
  {
   "cell_type": "code",
   "execution_count": 21,
   "metadata": {},
   "outputs": [
    {
     "data": {
      "text/plain": [
       "PCA(n_components=0.95)"
      ]
     },
     "execution_count": 21,
     "metadata": {},
     "output_type": "execute_result"
    }
   ],
   "source": [
    "pca.fit(train_data)"
   ]
  },
  {
   "cell_type": "code",
   "execution_count": 22,
   "metadata": {},
   "outputs": [
    {
     "data": {
      "text/plain": [
       "12"
      ]
     },
     "execution_count": 22,
     "metadata": {},
     "output_type": "execute_result"
    }
   ],
   "source": [
    "pca.n_components_"
   ]
  },
  {
   "cell_type": "code",
   "execution_count": 23,
   "metadata": {},
   "outputs": [],
   "source": [
    "ttrain_data = pca.transform(train_data)\n",
    "ttest_data = pca.transform(test_data)"
   ]
  },
  {
   "cell_type": "code",
   "execution_count": 24,
   "metadata": {},
   "outputs": [
    {
     "data": {
      "text/plain": [
       "((177, 12), (30, 12))"
      ]
     },
     "execution_count": 24,
     "metadata": {},
     "output_type": "execute_result"
    }
   ],
   "source": [
    "ttrain_data.shape, ttest_data.shape"
   ]
  },
  {
   "cell_type": "code",
   "execution_count": 25,
   "metadata": {},
   "outputs": [
    {
     "data": {
      "text/plain": [
       "array([0.26998494, 0.13644993, 0.11228057, 0.0808654 , 0.0696293 ,\n",
       "       0.06169054, 0.05808226, 0.05105435, 0.04323999, 0.03873602,\n",
       "       0.02652545, 0.01947727])"
      ]
     },
     "execution_count": 25,
     "metadata": {},
     "output_type": "execute_result"
    }
   ],
   "source": [
    "pca.explained_variance_ratio_"
   ]
  },
  {
   "cell_type": "code",
   "execution_count": 26,
   "metadata": {},
   "outputs": [],
   "source": [
    "# all parameters not specified are set to their defaults\n",
    "# default solver is incredibly slow which is why it was changed to 'lbfgs'\n",
    "logisticRegr = LogisticRegression(solver = 'lbfgs')"
   ]
  },
  {
   "cell_type": "code",
   "execution_count": 27,
   "metadata": {},
   "outputs": [
    {
     "data": {
      "text/plain": [
       "LogisticRegression()"
      ]
     },
     "execution_count": 27,
     "metadata": {},
     "output_type": "execute_result"
    }
   ],
   "source": [
    "logisticRegr.fit(ttrain_data, train_lbl)"
   ]
  },
  {
   "cell_type": "code",
   "execution_count": 28,
   "metadata": {},
   "outputs": [
    {
     "data": {
      "text/plain": [
       "array([70.])"
      ]
     },
     "execution_count": 28,
     "metadata": {},
     "output_type": "execute_result"
    }
   ],
   "source": [
    "logisticRegr.predict(ttest_data[0].reshape(1,-1))"
   ]
  },
  {
   "cell_type": "code",
   "execution_count": 29,
   "metadata": {},
   "outputs": [
    {
     "data": {
      "text/plain": [
       "array([70., 50., 50., 30., 60., 60., 50., 40., 50., 60., 50., 60., 50.,\n",
       "       60., 50., 50., 50., 60., 50., 50., 60., 60., 60., 50., 50., 50.,\n",
       "       50., 40., 50., 40.])"
      ]
     },
     "execution_count": 29,
     "metadata": {},
     "output_type": "execute_result"
    }
   ],
   "source": [
    "logisticRegr.predict(ttest_data[:])"
   ]
  },
  {
   "cell_type": "code",
   "execution_count": 30,
   "metadata": {},
   "outputs": [
    {
     "data": {
      "text/plain": [
       "0.4"
      ]
     },
     "execution_count": 30,
     "metadata": {},
     "output_type": "execute_result"
    }
   ],
   "source": [
    "logisticRegr.score(ttest_data, test_lbl)"
   ]
  },
  {
   "cell_type": "code",
   "execution_count": null,
   "metadata": {},
   "outputs": [],
   "source": []
  },
  {
   "cell_type": "code",
   "execution_count": null,
   "metadata": {},
   "outputs": [],
   "source": []
  }
 ],
 "metadata": {
  "kernelspec": {
   "display_name": "Python 3",
   "language": "python",
   "name": "python3"
  },
  "language_info": {
   "codemirror_mode": {
    "name": "ipython",
    "version": 3
   },
   "file_extension": ".py",
   "mimetype": "text/x-python",
   "name": "python",
   "nbconvert_exporter": "python",
   "pygments_lexer": "ipython3",
   "version": "3.8.5"
  }
 },
 "nbformat": 4,
 "nbformat_minor": 4
}
